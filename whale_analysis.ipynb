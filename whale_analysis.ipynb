{
 "cells": [
  {
   "cell_type": "markdown",
   "metadata": {},
   "source": [
    " #  A Whale off the Port(folio)\n",
    "\n",
    
   ]
  },
  {
   "cell_type": "code",
   "execution_count": 403,
   "metadata": {},
   "outputs": [],
   "source": [
    "import pandas as pd\n",
    "import numpy as np\n",
    "import datetime as dt\n",
    "from pathlib import Path\n",
    "%matplotlib inline"
   ]
  },
  {
   "cell_type": "markdown",
   "metadata": {},
   "source": [
    "# Data Cleaning\n",
    "\n",
    "In this section, you will need to read the CSV files into DataFrames and perform any necessary data cleaning steps. After cleaning, combine all DataFrames into a single DataFrame.\n",
    "\n",
    "Files:\n",
    "1. whale_returns.csv\n",
    "2. algo_returns.csv\n",
    "3. sp500_history.csv"
   ]
  },
  {
   "cell_type": "markdown",
   "metadata": {},
   "source": [
    "## Whale Returns\n",
    "\n",
    "Read the Whale Portfolio daily returns and clean the data"
   ]
  },
  {
   "cell_type": "code",
   "execution_count": 404,
   "metadata": {},
   "outputs": [
    {
     "data": {
      "text/html": [
       "<div>\n",
       "<style scoped>\n",
       "    .dataframe tbody tr th:only-of-type {\n",
       "        vertical-align: middle;\n",
       "    }\n",
       "\n",
       "    .dataframe tbody tr th {\n",
       "        vertical-align: top;\n",
       "    }\n",
       "\n",
       "    .dataframe thead th {\n",
       "        text-align: right;\n",
       "    }\n",
       "</style>\n",
       "<table border=\"1\" class=\"dataframe\">\n",
       "  <thead>\n",
       "    <tr style=\"text-align: right;\">\n",
       "      <th></th>\n",
       "      <th>Date</th>\n",
       "      <th>SOROS FUND MANAGEMENT LLC</th>\n",
       "      <th>PAULSON &amp; CO.INC.</th>\n",
       "      <th>TIGER GLOBAL MANAGEMENT LLC</th>\n",
       "      <th>BERKSHIRE HATHAWAY INC</th>\n",
       "    </tr>\n",
       "  </thead>\n",
       "  <tbody>\n",
       "    <tr>\n",
       "      <th>0</th>\n",
       "      <td>2015-03-02</td>\n",
       "      <td>NaN</td>\n",
       "      <td>NaN</td>\n",
       "      <td>NaN</td>\n",
       "      <td>NaN</td>\n",
       "    </tr>\n",
       "    <tr>\n",
       "      <th>1</th>\n",
       "      <td>2015-03-03</td>\n",
       "      <td>-0.001266</td>\n",
       "      <td>-0.004981</td>\n",
       "      <td>-0.000496</td>\n",
       "      <td>-0.006569</td>\n",
       "    </tr>\n",
       "    <tr>\n",
       "      <th>2</th>\n",
       "      <td>2015-03-04</td>\n",
       "      <td>0.002230</td>\n",
       "      <td>0.003241</td>\n",
       "      <td>-0.002534</td>\n",
       "      <td>0.004213</td>\n",
       "    </tr>\n",
       "    <tr>\n",
       "      <th>3</th>\n",
       "      <td>2015-03-05</td>\n",
       "      <td>0.004016</td>\n",
       "      <td>0.004076</td>\n",
       "      <td>0.002355</td>\n",
       "      <td>0.006726</td>\n",
       "    </tr>\n",
       "    <tr>\n",
       "      <th>4</th>\n",
       "      <td>2015-03-06</td>\n",
       "      <td>-0.007905</td>\n",
       "      <td>-0.003574</td>\n",
       "      <td>-0.008481</td>\n",
       "      <td>-0.013098</td>\n",
       "    </tr>\n",
       "  </tbody>\n",
       "</table>\n",
       "</div>"
      ],
      "text/plain": [
       "         Date  SOROS FUND MANAGEMENT LLC  PAULSON & CO.INC.   \\\n",
       "0  2015-03-02                        NaN                 NaN   \n",
       "1  2015-03-03                  -0.001266           -0.004981   \n",
       "2  2015-03-04                   0.002230            0.003241   \n",
       "3  2015-03-05                   0.004016            0.004076   \n",
       "4  2015-03-06                  -0.007905           -0.003574   \n",
       "\n",
       "   TIGER GLOBAL MANAGEMENT LLC  BERKSHIRE HATHAWAY INC  \n",
       "0                          NaN                     NaN  \n",
       "1                    -0.000496               -0.006569  \n",
       "2                    -0.002534                0.004213  \n",
       "3                     0.002355                0.006726  \n",
       "4                    -0.008481               -0.013098  "
      ]
     },
     "execution_count": 404,
     "metadata": {},
     "output_type": "execute_result"
    }
   ],
   "source": [
    "###### Read whale returns\n",
    "#read whale returns\n",
    "whale_returns_csv = Path(\"Resources/whale_returns.csv\")\n",
    "whale_returns_csv = pd.read_csv(whale_returns_csv)\n",
    "whale_returns_csv.head()\n"
   ]
  },
  {
   "cell_type": "code",
   "execution_count": 405,
   "metadata": {},
   "outputs": [
    {
     "data": {
      "text/html": [
       "<div>\n",
       "<style scoped>\n",
       "    .dataframe tbody tr th:only-of-type {\n",
       "        vertical-align: middle;\n",
       "    }\n",
       "\n",
       "    .dataframe tbody tr th {\n",
       "        vertical-align: top;\n",
       "    }\n",
       "\n",
       "    .dataframe thead th {\n",
       "        text-align: right;\n",
       "    }\n",
       "</style>\n",
       "<table border=\"1\" class=\"dataframe\">\n",
       "  <thead>\n",
       "    <tr style=\"text-align: right;\">\n",
       "      <th></th>\n",
       "      <th>Date</th>\n",
       "      <th>SOROS FUND MANAGEMENT LLC</th>\n",
       "      <th>PAULSON &amp; CO.INC.</th>\n",
       "      <th>TIGER GLOBAL MANAGEMENT LLC</th>\n",
       "      <th>BERKSHIRE HATHAWAY INC</th>\n",
       "    </tr>\n",
       "  </thead>\n",
       "  <tbody>\n",
       "    <tr>\n",
       "      <th>1059</th>\n",
       "      <td>2019-05-01</td>\n",
       "      <td>-0.005847</td>\n",
       "      <td>-0.001341</td>\n",
       "      <td>-0.007936</td>\n",
       "      <td>-0.007833</td>\n",
       "    </tr>\n",
       "    <tr>\n",
       "      <th>1058</th>\n",
       "      <td>2019-04-30</td>\n",
       "      <td>-0.001295</td>\n",
       "      <td>-0.002211</td>\n",
       "      <td>-0.000259</td>\n",
       "      <td>-0.003702</td>\n",
       "    </tr>\n",
       "    <tr>\n",
       "      <th>1057</th>\n",
       "      <td>2019-04-29</td>\n",
       "      <td>0.001254</td>\n",
       "      <td>0.002719</td>\n",
       "      <td>0.006251</td>\n",
       "      <td>0.005223</td>\n",
       "    </tr>\n",
       "    <tr>\n",
       "      <th>1056</th>\n",
       "      <td>2019-04-26</td>\n",
       "      <td>0.008149</td>\n",
       "      <td>0.009162</td>\n",
       "      <td>0.012355</td>\n",
       "      <td>0.010434</td>\n",
       "    </tr>\n",
       "    <tr>\n",
       "      <th>1055</th>\n",
       "      <td>2019-04-25</td>\n",
       "      <td>-0.000285</td>\n",
       "      <td>-0.001291</td>\n",
       "      <td>-0.005153</td>\n",
       "      <td>0.004848</td>\n",
       "    </tr>\n",
       "    <tr>\n",
       "      <th>...</th>\n",
       "      <td>...</td>\n",
       "      <td>...</td>\n",
       "      <td>...</td>\n",
       "      <td>...</td>\n",
       "      <td>...</td>\n",
       "    </tr>\n",
       "    <tr>\n",
       "      <th>4</th>\n",
       "      <td>2015-03-06</td>\n",
       "      <td>-0.007905</td>\n",
       "      <td>-0.003574</td>\n",
       "      <td>-0.008481</td>\n",
       "      <td>-0.013098</td>\n",
       "    </tr>\n",
       "    <tr>\n",
       "      <th>3</th>\n",
       "      <td>2015-03-05</td>\n",
       "      <td>0.004016</td>\n",
       "      <td>0.004076</td>\n",
       "      <td>0.002355</td>\n",
       "      <td>0.006726</td>\n",
       "    </tr>\n",
       "    <tr>\n",
       "      <th>2</th>\n",
       "      <td>2015-03-04</td>\n",
       "      <td>0.002230</td>\n",
       "      <td>0.003241</td>\n",
       "      <td>-0.002534</td>\n",
       "      <td>0.004213</td>\n",
       "    </tr>\n",
       "    <tr>\n",
       "      <th>1</th>\n",
       "      <td>2015-03-03</td>\n",
       "      <td>-0.001266</td>\n",
       "      <td>-0.004981</td>\n",
       "      <td>-0.000496</td>\n",
       "      <td>-0.006569</td>\n",
       "    </tr>\n",
       "    <tr>\n",
       "      <th>0</th>\n",
       "      <td>2015-03-02</td>\n",
       "      <td>NaN</td>\n",
       "      <td>NaN</td>\n",
       "      <td>NaN</td>\n",
       "      <td>NaN</td>\n",
       "    </tr>\n",
       "  </tbody>\n",
       "</table>\n",
       "<p>1060 rows × 5 columns</p>\n",
       "</div>"
      ],
      "text/plain": [
       "            Date  SOROS FUND MANAGEMENT LLC  PAULSON & CO.INC.   \\\n",
       "1059  2019-05-01                  -0.005847           -0.001341   \n",
       "1058  2019-04-30                  -0.001295           -0.002211   \n",
       "1057  2019-04-29                   0.001254            0.002719   \n",
       "1056  2019-04-26                   0.008149            0.009162   \n",
       "1055  2019-04-25                  -0.000285           -0.001291   \n",
       "...          ...                        ...                 ...   \n",
       "4     2015-03-06                  -0.007905           -0.003574   \n",
       "3     2015-03-05                   0.004016            0.004076   \n",
       "2     2015-03-04                   0.002230            0.003241   \n",
       "1     2015-03-03                  -0.001266           -0.004981   \n",
       "0     2015-03-02                        NaN                 NaN   \n",
       "\n",
       "      TIGER GLOBAL MANAGEMENT LLC  BERKSHIRE HATHAWAY INC  \n",
       "1059                    -0.007936               -0.007833  \n",
       "1058                    -0.000259               -0.003702  \n",
       "1057                     0.006251                0.005223  \n",
       "1056                     0.012355                0.010434  \n",
       "1055                    -0.005153                0.004848  \n",
       "...                           ...                     ...  \n",
       "4                       -0.008481               -0.013098  \n",
       "3                        0.002355                0.006726  \n",
       "2                       -0.002534                0.004213  \n",
       "1                       -0.000496               -0.006569  \n",
       "0                             NaN                     NaN  \n",
       "\n",
       "[1060 rows x 5 columns]"
      ]
     },
     "execution_count": 405,
     "metadata": {},
     "output_type": "execute_result"
    }
   ],
   "source": [
    "#sorted data in ascending order\n",
    "whale_returns_csv.sort_index(ascending=False)"
   ]
  },
  {
   "cell_type": "code",
   "execution_count": 406,
   "metadata": {},
   "outputs": [
    {
     "data": {
      "text/html": [
       "<div>\n",
       "<style scoped>\n",
       "    .dataframe tbody tr th:only-of-type {\n",
       "        vertical-align: middle;\n",
       "    }\n",
       "\n",
       "    .dataframe tbody tr th {\n",
       "        vertical-align: top;\n",
       "    }\n",
       "\n",
       "    .dataframe thead th {\n",
       "        text-align: right;\n",
       "    }\n",
       "</style>\n",
       "<table border=\"1\" class=\"dataframe\">\n",
       "  <thead>\n",
       "    <tr style=\"text-align: right;\">\n",
       "      <th></th>\n",
       "      <th>Date</th>\n",
       "      <th>SOROS FUND MANAGEMENT LLC</th>\n",
       "      <th>PAULSON &amp; CO.INC.</th>\n",
       "      <th>TIGER GLOBAL MANAGEMENT LLC</th>\n",
       "      <th>BERKSHIRE HATHAWAY INC</th>\n",
       "    </tr>\n",
       "    <tr>\n",
       "      <th>Date</th>\n",
       "      <th></th>\n",
       "      <th></th>\n",
       "      <th></th>\n",
       "      <th></th>\n",
       "      <th></th>\n",
       "    </tr>\n",
       "  </thead>\n",
       "  <tbody>\n",
       "    <tr>\n",
       "      <th>2015-03-02</th>\n",
       "      <td>2015-03-02</td>\n",
       "      <td>NaN</td>\n",
       "      <td>NaN</td>\n",
       "      <td>NaN</td>\n",
       "      <td>NaN</td>\n",
       "    </tr>\n",
       "    <tr>\n",
       "      <th>2015-03-03</th>\n",
       "      <td>2015-03-03</td>\n",
       "      <td>-0.001266</td>\n",
       "      <td>-0.004981</td>\n",
       "      <td>-0.000496</td>\n",
       "      <td>-0.006569</td>\n",
       "    </tr>\n",
       "    <tr>\n",
       "      <th>2015-03-04</th>\n",
       "      <td>2015-03-04</td>\n",
       "      <td>0.002230</td>\n",
       "      <td>0.003241</td>\n",
       "      <td>-0.002534</td>\n",
       "      <td>0.004213</td>\n",
       "    </tr>\n",
       "    <tr>\n",
       "      <th>2015-03-05</th>\n",
       "      <td>2015-03-05</td>\n",
       "      <td>0.004016</td>\n",
       "      <td>0.004076</td>\n",
       "      <td>0.002355</td>\n",
       "      <td>0.006726</td>\n",
       "    </tr>\n",
       "    <tr>\n",
       "      <th>2015-03-06</th>\n",
       "      <td>2015-03-06</td>\n",
       "      <td>-0.007905</td>\n",
       "      <td>-0.003574</td>\n",
       "      <td>-0.008481</td>\n",
       "      <td>-0.013098</td>\n",
       "    </tr>\n",
       "  </tbody>\n",
       "</table>\n",
       "</div>"
      ],
      "text/plain": [
       "                  Date  SOROS FUND MANAGEMENT LLC  PAULSON & CO.INC.   \\\n",
       "Date                                                                    \n",
       "2015-03-02  2015-03-02                        NaN                 NaN   \n",
       "2015-03-03  2015-03-03                  -0.001266           -0.004981   \n",
       "2015-03-04  2015-03-04                   0.002230            0.003241   \n",
       "2015-03-05  2015-03-05                   0.004016            0.004076   \n",
       "2015-03-06  2015-03-06                  -0.007905           -0.003574   \n",
       "\n",
       "            TIGER GLOBAL MANAGEMENT LLC  BERKSHIRE HATHAWAY INC  \n",
       "Date                                                             \n",
       "2015-03-02                          NaN                     NaN  \n",
       "2015-03-03                    -0.000496               -0.006569  \n",
       "2015-03-04                    -0.002534                0.004213  \n",
       "2015-03-05                     0.002355                0.006726  \n",
       "2015-03-06                    -0.008481               -0.013098  "
      ]
     },
     "execution_count": 406,
     "metadata": {},
     "output_type": "execute_result"
    }
   ],
   "source": [
    "#set date as the dateindex\n",
    "whale_returns_csv.set_index(pd.to_datetime(whale_returns_csv['Date'], infer_datetime_format=True), inplace=True)\n",
    "whale_returns_csv.head()"
   ]
  },
  {
   "cell_type": "code",
   "execution_count": 407,
   "metadata": {},
   "outputs": [
    {
     "data": {
      "text/html": [
       "<div>\n",
       "<style scoped>\n",
       "    .dataframe tbody tr th:only-of-type {\n",
       "        vertical-align: middle;\n",
       "    }\n",
       "\n",
       "    .dataframe tbody tr th {\n",
       "        vertical-align: top;\n",
       "    }\n",
       "\n",
       "    .dataframe thead th {\n",
       "        text-align: right;\n",
       "    }\n",
       "</style>\n",
       "<table border=\"1\" class=\"dataframe\">\n",
       "  <thead>\n",
       "    <tr style=\"text-align: right;\">\n",
       "      <th></th>\n",
       "      <th>SOROS FUND MANAGEMENT LLC</th>\n",
       "      <th>PAULSON &amp; CO.INC.</th>\n",
       "      <th>TIGER GLOBAL MANAGEMENT LLC</th>\n",
       "      <th>BERKSHIRE HATHAWAY INC</th>\n",
       "    </tr>\n",
       "    <tr>\n",
       "      <th>Date</th>\n",
       "      <th></th>\n",
       "      <th></th>\n",
       "      <th></th>\n",
       "      <th></th>\n",
       "    </tr>\n",
       "  </thead>\n",
       "  <tbody>\n",
       "    <tr>\n",
       "      <th>2015-03-02</th>\n",
       "      <td>NaN</td>\n",
       "      <td>NaN</td>\n",
       "      <td>NaN</td>\n",
       "      <td>NaN</td>\n",
       "    </tr>\n",
       "    <tr>\n",
       "      <th>2015-03-03</th>\n",
       "      <td>-0.001266</td>\n",
       "      <td>-0.004981</td>\n",
       "      <td>-0.000496</td>\n",
       "      <td>-0.006569</td>\n",
       "    </tr>\n",
       "    <tr>\n",
       "      <th>2015-03-04</th>\n",
       "      <td>0.002230</td>\n",
       "      <td>0.003241</td>\n",
       "      <td>-0.002534</td>\n",
       "      <td>0.004213</td>\n",
       "    </tr>\n",
       "    <tr>\n",
       "      <th>2015-03-05</th>\n",
       "      <td>0.004016</td>\n",
       "      <td>0.004076</td>\n",
       "      <td>0.002355</td>\n",
       "      <td>0.006726</td>\n",
       "    </tr>\n",
       "    <tr>\n",
       "      <th>2015-03-06</th>\n",
       "      <td>-0.007905</td>\n",
       "      <td>-0.003574</td>\n",
       "      <td>-0.008481</td>\n",
       "      <td>-0.013098</td>\n",
       "    </tr>\n",
       "  </tbody>\n",
       "</table>\n",
       "</div>"
      ],
      "text/plain": [
       "            SOROS FUND MANAGEMENT LLC  PAULSON & CO.INC.   \\\n",
       "Date                                                        \n",
       "2015-03-02                        NaN                 NaN   \n",
       "2015-03-03                  -0.001266           -0.004981   \n",
       "2015-03-04                   0.002230            0.003241   \n",
       "2015-03-05                   0.004016            0.004076   \n",
       "2015-03-06                  -0.007905           -0.003574   \n",
       "\n",
       "            TIGER GLOBAL MANAGEMENT LLC  BERKSHIRE HATHAWAY INC  \n",
       "Date                                                             \n",
       "2015-03-02                          NaN                     NaN  \n",
       "2015-03-03                    -0.000496               -0.006569  \n",
       "2015-03-04                    -0.002534                0.004213  \n",
       "2015-03-05                     0.002355                0.006726  \n",
       "2015-03-06                    -0.008481               -0.013098  "
      ]
     },
     "execution_count": 407,
     "metadata": {},
     "output_type": "execute_result"
    }
   ],
   "source": [
    "#drop extra date column\n",
    "whale_returns_csv.drop(columns=['Date'], inplace=True)\n",
    "whale_returns_csv.head()"
   ]
  },
  {
   "cell_type": "code",
   "execution_count": 408,
   "metadata": {},
   "outputs": [
    {
     "data": {
      "text/plain": [
       "SOROS FUND MANAGEMENT LLC      1\n",
       "PAULSON & CO.INC.              1\n",
       "TIGER GLOBAL MANAGEMENT LLC    1\n",
       "BERKSHIRE HATHAWAY INC         1\n",
       "dtype: int64"
      ]
     },
     "execution_count": 408,
     "metadata": {},
     "output_type": "execute_result"
    }
   ],
   "source": [
    "# Count nulls \n",
    "whale_returns_csv.isnull().sum()"
   ]
  },
  {
   "cell_type": "code",
   "execution_count": 409,
   "metadata": {},
   "outputs": [],
   "source": [
    "# Drop nulls\n",
    "whale_returns_csv.dropna(inplace=True)\n"
   ]
  },
  {
   "cell_type": "code",
   "execution_count": 410,
   "metadata": {},
   "outputs": [
    {
     "data": {
      "text/plain": [
       "SOROS FUND MANAGEMENT LLC      0\n",
       "PAULSON & CO.INC.              0\n",
       "TIGER GLOBAL MANAGEMENT LLC    0\n",
       "BERKSHIRE HATHAWAY INC         0\n",
       "dtype: int64"
      ]
     },
     "execution_count": 410,
     "metadata": {},
     "output_type": "execute_result"
    }
   ],
   "source": [
    "whale_returns_csv.isnull().sum()"
   ]
  },
  {
   "cell_type": "code",
   "execution_count": 411,
   "metadata": {},
   "outputs": [
    {
     "data": {
      "text/html": [
       "<div>\n",
       "<style scoped>\n",
       "    .dataframe tbody tr th:only-of-type {\n",
       "        vertical-align: middle;\n",
       "    }\n",
       "\n",
       "    .dataframe tbody tr th {\n",
       "        vertical-align: top;\n",
       "    }\n",
       "\n",
       "    .dataframe thead th {\n",
       "        text-align: right;\n",
       "    }\n",
       "</style>\n",
       "<table border=\"1\" class=\"dataframe\">\n",
       "  <thead>\n",
       "    <tr style=\"text-align: right;\">\n",
       "      <th></th>\n",
       "      <th>Date</th>\n",
       "      <th>Algo 1</th>\n",
       "      <th>Algo 2</th>\n",
       "    </tr>\n",
       "  </thead>\n",
       "  <tbody>\n",
       "    <tr>\n",
       "      <th>0</th>\n",
       "      <td>2014-05-28</td>\n",
       "      <td>0.001745</td>\n",
       "      <td>NaN</td>\n",
       "    </tr>\n",
       "    <tr>\n",
       "      <th>1</th>\n",
       "      <td>2014-05-29</td>\n",
       "      <td>0.003978</td>\n",
       "      <td>NaN</td>\n",
       "    </tr>\n",
       "    <tr>\n",
       "      <th>2</th>\n",
       "      <td>2014-05-30</td>\n",
       "      <td>0.004464</td>\n",
       "      <td>NaN</td>\n",
       "    </tr>\n",
       "    <tr>\n",
       "      <th>3</th>\n",
       "      <td>2014-06-02</td>\n",
       "      <td>0.005692</td>\n",
       "      <td>NaN</td>\n",
       "    </tr>\n",
       "    <tr>\n",
       "      <th>4</th>\n",
       "      <td>2014-06-03</td>\n",
       "      <td>0.005292</td>\n",
       "      <td>NaN</td>\n",
       "    </tr>\n",
       "  </tbody>\n",
       "</table>\n",
       "</div>"
      ],
      "text/plain": [
       "         Date    Algo 1  Algo 2\n",
       "0  2014-05-28  0.001745     NaN\n",
       "1  2014-05-29  0.003978     NaN\n",
       "2  2014-05-30  0.004464     NaN\n",
       "3  2014-06-02  0.005692     NaN\n",
       "4  2014-06-03  0.005292     NaN"
      ]
     },
     "execution_count": 411,
     "metadata": {},
     "output_type": "execute_result"
    }
   ],
   "source": [
    "# Reading algorithmic returns\n",
    "algo_returns_csv = Path(\"Resources/algo_returns.csv\")\n",
    "algo_returns_csv = pd.read_csv(algo_returns_csv)\n",
    "algo_returns_csv.head()"
   ]
  },
  {
   "cell_type": "code",
   "execution_count": 412,
   "metadata": {},
   "outputs": [
    {
     "data": {
      "text/html": [
       "<div>\n",
       "<style scoped>\n",
       "    .dataframe tbody tr th:only-of-type {\n",
       "        vertical-align: middle;\n",
       "    }\n",
       "\n",
       "    .dataframe tbody tr th {\n",
       "        vertical-align: top;\n",
       "    }\n",
       "\n",
       "    .dataframe thead th {\n",
       "        text-align: right;\n",
       "    }\n",
       "</style>\n",
       "<table border=\"1\" class=\"dataframe\">\n",
       "  <thead>\n",
       "    <tr style=\"text-align: right;\">\n",
       "      <th></th>\n",
       "      <th>Date</th>\n",
       "      <th>Algo 1</th>\n",
       "      <th>Algo 2</th>\n",
       "    </tr>\n",
       "  </thead>\n",
       "  <tbody>\n",
       "    <tr>\n",
       "      <th>1240</th>\n",
       "      <td>2019-05-01</td>\n",
       "      <td>0.000094</td>\n",
       "      <td>-0.007358</td>\n",
       "    </tr>\n",
       "    <tr>\n",
       "      <th>1239</th>\n",
       "      <td>2019-04-30</td>\n",
       "      <td>-0.002944</td>\n",
       "      <td>-0.001570</td>\n",
       "    </tr>\n",
       "    <tr>\n",
       "      <th>1238</th>\n",
       "      <td>2019-04-29</td>\n",
       "      <td>0.005208</td>\n",
       "      <td>0.002829</td>\n",
       "    </tr>\n",
       "    <tr>\n",
       "      <th>1237</th>\n",
       "      <td>2019-04-26</td>\n",
       "      <td>0.002981</td>\n",
       "      <td>0.005256</td>\n",
       "    </tr>\n",
       "    <tr>\n",
       "      <th>1236</th>\n",
       "      <td>2019-04-25</td>\n",
       "      <td>0.000682</td>\n",
       "      <td>-0.007247</td>\n",
       "    </tr>\n",
       "    <tr>\n",
       "      <th>...</th>\n",
       "      <td>...</td>\n",
       "      <td>...</td>\n",
       "      <td>...</td>\n",
       "    </tr>\n",
       "    <tr>\n",
       "      <th>4</th>\n",
       "      <td>2014-06-03</td>\n",
       "      <td>0.005292</td>\n",
       "      <td>NaN</td>\n",
       "    </tr>\n",
       "    <tr>\n",
       "      <th>3</th>\n",
       "      <td>2014-06-02</td>\n",
       "      <td>0.005692</td>\n",
       "      <td>NaN</td>\n",
       "    </tr>\n",
       "    <tr>\n",
       "      <th>2</th>\n",
       "      <td>2014-05-30</td>\n",
       "      <td>0.004464</td>\n",
       "      <td>NaN</td>\n",
       "    </tr>\n",
       "    <tr>\n",
       "      <th>1</th>\n",
       "      <td>2014-05-29</td>\n",
       "      <td>0.003978</td>\n",
       "      <td>NaN</td>\n",
       "    </tr>\n",
       "    <tr>\n",
       "      <th>0</th>\n",
       "      <td>2014-05-28</td>\n",
       "      <td>0.001745</td>\n",
       "      <td>NaN</td>\n",
       "    </tr>\n",
       "  </tbody>\n",
       "</table>\n",
       "<p>1241 rows × 3 columns</p>\n",
       "</div>"
      ],
      "text/plain": [
       "            Date    Algo 1    Algo 2\n",
       "1240  2019-05-01  0.000094 -0.007358\n",
       "1239  2019-04-30 -0.002944 -0.001570\n",
       "1238  2019-04-29  0.005208  0.002829\n",
       "1237  2019-04-26  0.002981  0.005256\n",
       "1236  2019-04-25  0.000682 -0.007247\n",
       "...          ...       ...       ...\n",
       "4     2014-06-03  0.005292       NaN\n",
       "3     2014-06-02  0.005692       NaN\n",
       "2     2014-05-30  0.004464       NaN\n",
       "1     2014-05-29  0.003978       NaN\n",
       "0     2014-05-28  0.001745       NaN\n",
       "\n",
       "[1241 rows x 3 columns]"
      ]
     },
     "execution_count": 412,
     "metadata": {},
     "output_type": "execute_result"
    }
   ],
   "source": [
    "#sort data in ascending order\n",
    "algo_returns_csv.sort_index(ascending=False)"
   ]
  },
  {
   "cell_type": "code",
   "execution_count": 413,
   "metadata": {},
   "outputs": [
    {
     "data": {
      "text/html": [
       "<div>\n",
       "<style scoped>\n",
       "    .dataframe tbody tr th:only-of-type {\n",
       "        vertical-align: middle;\n",
       "    }\n",
       "\n",
       "    .dataframe tbody tr th {\n",
       "        vertical-align: top;\n",
       "    }\n",
       "\n",
       "    .dataframe thead th {\n",
       "        text-align: right;\n",
       "    }\n",
       "</style>\n",
       "<table border=\"1\" class=\"dataframe\">\n",
       "  <thead>\n",
       "    <tr style=\"text-align: right;\">\n",
       "      <th></th>\n",
       "      <th>Date</th>\n",
       "      <th>Algo 1</th>\n",
       "      <th>Algo 2</th>\n",
       "    </tr>\n",
       "    <tr>\n",
       "      <th>Date</th>\n",
       "      <th></th>\n",
       "      <th></th>\n",
       "      <th></th>\n",
       "    </tr>\n",
       "  </thead>\n",
       "  <tbody>\n",
       "    <tr>\n",
       "      <th>2014-05-28</th>\n",
       "      <td>2014-05-28</td>\n",
       "      <td>0.001745</td>\n",
       "      <td>NaN</td>\n",
       "    </tr>\n",
       "    <tr>\n",
       "      <th>2014-05-29</th>\n",
       "      <td>2014-05-29</td>\n",
       "      <td>0.003978</td>\n",
       "      <td>NaN</td>\n",
       "    </tr>\n",
       "    <tr>\n",
       "      <th>2014-05-30</th>\n",
       "      <td>2014-05-30</td>\n",
       "      <td>0.004464</td>\n",
       "      <td>NaN</td>\n",
       "    </tr>\n",
       "    <tr>\n",
       "      <th>2014-06-02</th>\n",
       "      <td>2014-06-02</td>\n",
       "      <td>0.005692</td>\n",
       "      <td>NaN</td>\n",
       "    </tr>\n",
       "    <tr>\n",
       "      <th>2014-06-03</th>\n",
       "      <td>2014-06-03</td>\n",
       "      <td>0.005292</td>\n",
       "      <td>NaN</td>\n",
       "    </tr>\n",
       "  </tbody>\n",
       "</table>\n",
       "</div>"
      ],
      "text/plain": [
       "                  Date    Algo 1  Algo 2\n",
       "Date                                    \n",
       "2014-05-28  2014-05-28  0.001745     NaN\n",
       "2014-05-29  2014-05-29  0.003978     NaN\n",
       "2014-05-30  2014-05-30  0.004464     NaN\n",
       "2014-06-02  2014-06-02  0.005692     NaN\n",
       "2014-06-03  2014-06-03  0.005292     NaN"
      ]
     },
     "execution_count": 413,
     "metadata": {},
     "output_type": "execute_result"
    }
   ],
   "source": [
    "# Set the date as the index to the DataFrame\n",
    "algo_returns_csv.set_index(pd.to_datetime(algo_returns_csv['Date'], infer_datetime_format=True), inplace=True)\n",
    "algo_returns_csv.head()"
   ]
  },
  {
   "cell_type": "code",
   "execution_count": 414,
   "metadata": {},
   "outputs": [
    {
     "data": {
      "text/html": [
       "<div>\n",
       "<style scoped>\n",
       "    .dataframe tbody tr th:only-of-type {\n",
       "        vertical-align: middle;\n",
       "    }\n",
       "\n",
       "    .dataframe tbody tr th {\n",
       "        vertical-align: top;\n",
       "    }\n",
       "\n",
       "    .dataframe thead th {\n",
       "        text-align: right;\n",
       "    }\n",
       "</style>\n",
       "<table border=\"1\" class=\"dataframe\">\n",
       "  <thead>\n",
       "    <tr style=\"text-align: right;\">\n",
       "      <th></th>\n",
       "      <th>Algo 1</th>\n",
       "      <th>Algo 2</th>\n",
       "    </tr>\n",
       "    <tr>\n",
       "      <th>Date</th>\n",
       "      <th></th>\n",
       "      <th></th>\n",
       "    </tr>\n",
       "  </thead>\n",
       "  <tbody>\n",
       "    <tr>\n",
       "      <th>2014-05-28</th>\n",
       "      <td>0.001745</td>\n",
       "      <td>NaN</td>\n",
       "    </tr>\n",
       "    <tr>\n",
       "      <th>2014-05-29</th>\n",
       "      <td>0.003978</td>\n",
       "      <td>NaN</td>\n",
       "    </tr>\n",
       "    <tr>\n",
       "      <th>2014-05-30</th>\n",
       "      <td>0.004464</td>\n",
       "      <td>NaN</td>\n",
       "    </tr>\n",
       "    <tr>\n",
       "      <th>2014-06-02</th>\n",
       "      <td>0.005692</td>\n",
       "      <td>NaN</td>\n",
       "    </tr>\n",
       "    <tr>\n",
       "      <th>2014-06-03</th>\n",
       "      <td>0.005292</td>\n",
       "      <td>NaN</td>\n",
       "    </tr>\n",
       "  </tbody>\n",
       "</table>\n",
       "</div>"
      ],
      "text/plain": [
       "              Algo 1  Algo 2\n",
       "Date                        \n",
       "2014-05-28  0.001745     NaN\n",
       "2014-05-29  0.003978     NaN\n",
       "2014-05-30  0.004464     NaN\n",
       "2014-06-02  0.005692     NaN\n",
       "2014-06-03  0.005292     NaN"
      ]
     },
     "execution_count": 414,
     "metadata": {},
     "output_type": "execute_result"
    }
   ],
   "source": [
    "# Dropped the extra date column\n",
    "algo_returns_csv.drop(columns=['Date'], inplace=True)\n",
    "algo_returns_csv.head()"
   ]
  },
  {
   "cell_type": "code",
   "execution_count": 415,
   "metadata": {},
   "outputs": [
    {
     "data": {
      "text/plain": [
       "Algo 1    0\n",
       "Algo 2    6\n",
       "dtype: int64"
      ]
     },
     "execution_count": 415,
     "metadata": {},
     "output_type": "execute_result"
    }
   ],
   "source": [
    "# Count nulls\n",
    "algo_returns_csv.isnull().sum()"
   ]
  },
  {
   "cell_type": "code",
   "execution_count": 416,
   "metadata": {},
   "outputs": [],
   "source": [
    "# Dropped nulls\n",
    "algo_returns_csv.dropna(inplace=True)"
   ]
  },
  {
   "cell_type": "code",
   "execution_count": 417,
   "metadata": {},
   "outputs": [
    {
     "data": {
      "text/plain": [
       "Algo 1    0\n",
       "Algo 2    0\n",
       "dtype: int64"
      ]
     },
     "execution_count": 417,
     "metadata": {},
     "output_type": "execute_result"
    }
   ],
   "source": [
    "algo_returns_csv.isnull().sum()"
   ]
  },
  {
   "cell_type": "code",
   "execution_count": 418,
   "metadata": {},
   "outputs": [
    {
     "data": {
      "text/html": [
       "<div>\n",
       "<style scoped>\n",
       "    .dataframe tbody tr th:only-of-type {\n",
       "        vertical-align: middle;\n",
       "    }\n",
       "\n",
       "    .dataframe tbody tr th {\n",
       "        vertical-align: top;\n",
       "    }\n",
       "\n",
       "    .dataframe thead th {\n",
       "        text-align: right;\n",
       "    }\n",
       "</style>\n",
       "<table border=\"1\" class=\"dataframe\">\n",
       "  <thead>\n",
       "    <tr style=\"text-align: right;\">\n",
       "      <th></th>\n",
       "      <th>Date</th>\n",
       "      <th>Close</th>\n",
       "    </tr>\n",
       "  </thead>\n",
       "  <tbody>\n",
       "    <tr>\n",
       "      <th>0</th>\n",
       "      <td>23-Apr-19</td>\n",
       "      <td>$2933.68</td>\n",
       "    </tr>\n",
       "    <tr>\n",
       "      <th>1</th>\n",
       "      <td>22-Apr-19</td>\n",
       "      <td>$2907.97</td>\n",
       "    </tr>\n",
       "    <tr>\n",
       "      <th>2</th>\n",
       "      <td>18-Apr-19</td>\n",
       "      <td>$2905.03</td>\n",
       "    </tr>\n",
       "    <tr>\n",
       "      <th>3</th>\n",
       "      <td>17-Apr-19</td>\n",
       "      <td>$2900.45</td>\n",
       "    </tr>\n",
       "    <tr>\n",
       "      <th>4</th>\n",
       "      <td>16-Apr-19</td>\n",
       "      <td>$2907.06</td>\n",
       "    </tr>\n",
       "  </tbody>\n",
       "</table>\n",
       "</div>"
      ],
      "text/plain": [
       "        Date     Close\n",
       "0  23-Apr-19  $2933.68\n",
       "1  22-Apr-19  $2907.97\n",
       "2  18-Apr-19  $2905.03\n",
       "3  17-Apr-19  $2900.45\n",
       "4  16-Apr-19  $2907.06"
      ]
     },
     "execution_count": 418,
     "metadata": {},
     "output_type": "execute_result"
    }
   ],
   "source": [
    "# Read S&P 500 Closing Prices, sorting index\n",
    "sp500_history_csv = Path(\"Resources/sp500_history.csv\")\n",
    "sp500_history_csv = pd.read_csv(sp500_history_csv)\n",
    "sp500_history_csv.head()\n"
   ]
  },
  {
   "cell_type": "code",
   "execution_count": 419,
   "metadata": {},
   "outputs": [
    {
     "name": "stdout",
     "output_type": "stream",
     "text": [
      "<class 'pandas.core.frame.DataFrame'>\n",
      "RangeIndex: 1649 entries, 0 to 1648\n",
      "Data columns (total 2 columns):\n",
      " #   Column  Non-Null Count  Dtype \n",
      "---  ------  --------------  ----- \n",
      " 0   Date    1649 non-null   object\n",
      " 1   Close   1649 non-null   object\n",
      "dtypes: object(2)\n",
      "memory usage: 25.9+ KB\n"
     ]
    },
    {
     "data": {
      "text/html": [
       "<div>\n",
       "<style scoped>\n",
       "    .dataframe tbody tr th:only-of-type {\n",
       "        vertical-align: middle;\n",
       "    }\n",
       "\n",
       "    .dataframe tbody tr th {\n",
       "        vertical-align: top;\n",
       "    }\n",
       "\n",
       "    .dataframe thead th {\n",
       "        text-align: right;\n",
       "    }\n",
       "</style>\n",
       "<table border=\"1\" class=\"dataframe\">\n",
       "  <thead>\n",
       "    <tr style=\"text-align: right;\">\n",
       "      <th></th>\n",
       "      <th>Date</th>\n",
       "      <th>Close</th>\n",
       "    </tr>\n",
       "  </thead>\n",
       "  <tbody>\n",
       "    <tr>\n",
       "      <th>0</th>\n",
       "      <td>23-Apr-19</td>\n",
       "      <td>$2933.68</td>\n",
       "    </tr>\n",
       "    <tr>\n",
       "      <th>1</th>\n",
       "      <td>22-Apr-19</td>\n",
       "      <td>$2907.97</td>\n",
       "    </tr>\n",
       "    <tr>\n",
       "      <th>2</th>\n",
       "      <td>18-Apr-19</td>\n",
       "      <td>$2905.03</td>\n",
       "    </tr>\n",
       "    <tr>\n",
       "      <th>3</th>\n",
       "      <td>17-Apr-19</td>\n",
       "      <td>$2900.45</td>\n",
       "    </tr>\n",
       "    <tr>\n",
       "      <th>4</th>\n",
       "      <td>16-Apr-19</td>\n",
       "      <td>$2907.06</td>\n",
       "    </tr>\n",
       "  </tbody>\n",
       "</table>\n",
       "</div>"
      ],
      "text/plain": [
       "        Date     Close\n",
       "0  23-Apr-19  $2933.68\n",
       "1  22-Apr-19  $2907.97\n",
       "2  18-Apr-19  $2905.03\n",
       "3  17-Apr-19  $2900.45\n",
       "4  16-Apr-19  $2907.06"
      ]
     },
     "execution_count": 419,
     "metadata": {},
     "output_type": "execute_result"
    }
   ],
   "source": [
    "# Checked Data Types\n",
    "sp500_history_csv.info()\n",
    "sp500_history_csv.head()"
   ]
  },
  {
   "cell_type": "code",
   "execution_count": 420,
   "metadata": {},
   "outputs": [
    {
     "data": {
      "text/html": [
       "<div>\n",
       "<style scoped>\n",
       "    .dataframe tbody tr th:only-of-type {\n",
       "        vertical-align: middle;\n",
       "    }\n",
       "\n",
       "    .dataframe tbody tr th {\n",
       "        vertical-align: top;\n",
       "    }\n",
       "\n",
       "    .dataframe thead th {\n",
       "        text-align: right;\n",
       "    }\n",
       "</style>\n",
       "<table border=\"1\" class=\"dataframe\">\n",
       "  <thead>\n",
       "    <tr style=\"text-align: right;\">\n",
       "      <th></th>\n",
       "      <th>Date</th>\n",
       "      <th>Close</th>\n",
       "    </tr>\n",
       "  </thead>\n",
       "  <tbody>\n",
       "    <tr>\n",
       "      <th>0</th>\n",
       "      <td>23-Apr-19</td>\n",
       "      <td>2933.68</td>\n",
       "    </tr>\n",
       "    <tr>\n",
       "      <th>1</th>\n",
       "      <td>22-Apr-19</td>\n",
       "      <td>2907.97</td>\n",
       "    </tr>\n",
       "    <tr>\n",
       "      <th>2</th>\n",
       "      <td>18-Apr-19</td>\n",
       "      <td>2905.03</td>\n",
       "    </tr>\n",
       "    <tr>\n",
       "      <th>3</th>\n",
       "      <td>17-Apr-19</td>\n",
       "      <td>2900.45</td>\n",
       "    </tr>\n",
       "    <tr>\n",
       "      <th>4</th>\n",
       "      <td>16-Apr-19</td>\n",
       "      <td>2907.06</td>\n",
       "    </tr>\n",
       "  </tbody>\n",
       "</table>\n",
       "</div>"
      ],
      "text/plain": [
       "        Date    Close\n",
       "0  23-Apr-19  2933.68\n",
       "1  22-Apr-19  2907.97\n",
       "2  18-Apr-19  2905.03\n",
       "3  17-Apr-19  2900.45\n",
       "4  16-Apr-19  2907.06"
      ]
     },
     "execution_count": 420,
     "metadata": {},
     "output_type": "execute_result"
    }
   ],
   "source": [
    "# Fixed Data Types\n",
    "sp500_history_csv[\"Close\"] = sp500_history_csv[\"Close\"].str.replace('$', '')\n",
    "sp500_history_csv[\"Close\"]\n",
    "sp500_history_csv.head()"
   ]
  },
  {
   "cell_type": "code",
   "execution_count": null,
   "metadata": {},
   "outputs": [],
   "source": []
  },
  {
   "cell_type": "code",
   "execution_count": 421,
   "metadata": {},
   "outputs": [
    {
     "data": {
      "text/plain": [
       "dtype('O')"
      ]
     },
     "execution_count": 421,
     "metadata": {},
     "output_type": "execute_result"
    }
   ],
   "source": [
    "# confirm data type as close\n",
    "sp500_history_csv['Close'].dtype"
   ]
  },
  {
   "cell_type": "code",
   "execution_count": 422,
   "metadata": {},
   "outputs": [
    {
     "data": {
      "text/plain": [
       "dtype('float64')"
      ]
     },
     "execution_count": 422,
     "metadata": {},
     "output_type": "execute_result"
    }
   ],
   "source": [
    "# placed close series as float\n",
    "sp500_history_csv['Close'] = sp500_history_csv['Close'].astype('float64')\n",
    "sp500_history_csv['Close'].dtype"
   ]
  },
  {
   "cell_type": "code",
   "execution_count": 423,
   "metadata": {},
   "outputs": [
    {
     "data": {
      "text/html": [
       "<div>\n",
       "<style scoped>\n",
       "    .dataframe tbody tr th:only-of-type {\n",
       "        vertical-align: middle;\n",
       "    }\n",
       "\n",
       "    .dataframe tbody tr th {\n",
       "        vertical-align: top;\n",
       "    }\n",
       "\n",
       "    .dataframe thead th {\n",
       "        text-align: right;\n",
       "    }\n",
       "</style>\n",
       "<table border=\"1\" class=\"dataframe\">\n",
       "  <thead>\n",
       "    <tr style=\"text-align: right;\">\n",
       "      <th></th>\n",
       "      <th>Date</th>\n",
       "      <th>Close</th>\n",
       "    </tr>\n",
       "  </thead>\n",
       "  <tbody>\n",
       "    <tr>\n",
       "      <th>1648</th>\n",
       "      <td>1-Oct-12</td>\n",
       "      <td>1444.49</td>\n",
       "    </tr>\n",
       "    <tr>\n",
       "      <th>1647</th>\n",
       "      <td>2-Oct-12</td>\n",
       "      <td>1445.75</td>\n",
       "    </tr>\n",
       "    <tr>\n",
       "      <th>1646</th>\n",
       "      <td>3-Oct-12</td>\n",
       "      <td>1450.99</td>\n",
       "    </tr>\n",
       "    <tr>\n",
       "      <th>1645</th>\n",
       "      <td>4-Oct-12</td>\n",
       "      <td>1461.40</td>\n",
       "    </tr>\n",
       "    <tr>\n",
       "      <th>1644</th>\n",
       "      <td>5-Oct-12</td>\n",
       "      <td>1460.93</td>\n",
       "    </tr>\n",
       "    <tr>\n",
       "      <th>...</th>\n",
       "      <td>...</td>\n",
       "      <td>...</td>\n",
       "    </tr>\n",
       "    <tr>\n",
       "      <th>4</th>\n",
       "      <td>16-Apr-19</td>\n",
       "      <td>2907.06</td>\n",
       "    </tr>\n",
       "    <tr>\n",
       "      <th>3</th>\n",
       "      <td>17-Apr-19</td>\n",
       "      <td>2900.45</td>\n",
       "    </tr>\n",
       "    <tr>\n",
       "      <th>2</th>\n",
       "      <td>18-Apr-19</td>\n",
       "      <td>2905.03</td>\n",
       "    </tr>\n",
       "    <tr>\n",
       "      <th>1</th>\n",
       "      <td>22-Apr-19</td>\n",
       "      <td>2907.97</td>\n",
       "    </tr>\n",
       "    <tr>\n",
       "      <th>0</th>\n",
       "      <td>23-Apr-19</td>\n",
       "      <td>2933.68</td>\n",
       "    </tr>\n",
       "  </tbody>\n",
       "</table>\n",
       "<p>1649 rows × 2 columns</p>\n",
       "</div>"
      ],
      "text/plain": [
       "           Date    Close\n",
       "1648   1-Oct-12  1444.49\n",
       "1647   2-Oct-12  1445.75\n",
       "1646   3-Oct-12  1450.99\n",
       "1645   4-Oct-12  1461.40\n",
       "1644   5-Oct-12  1460.93\n",
       "...         ...      ...\n",
       "4     16-Apr-19  2907.06\n",
       "3     17-Apr-19  2900.45\n",
       "2     18-Apr-19  2905.03\n",
       "1     22-Apr-19  2907.97\n",
       "0     23-Apr-19  2933.68\n",
       "\n",
       "[1649 rows x 2 columns]"
      ]
     },
     "execution_count": 423,
     "metadata": {},
     "output_type": "execute_result"
    }
   ],
   "source": [
    "#sorted data in ascending order\n",
    "sp500_history_csv.sort_index(ascending=False)\n"
   ]
  },
  {
   "cell_type": "code",
   "execution_count": 424,
   "metadata": {},
   "outputs": [
    {
     "data": {
      "text/html": [
       "<div>\n",
       "<style scoped>\n",
       "    .dataframe tbody tr th:only-of-type {\n",
       "        vertical-align: middle;\n",
       "    }\n",
       "\n",
       "    .dataframe tbody tr th {\n",
       "        vertical-align: top;\n",
       "    }\n",
       "\n",
       "    .dataframe thead th {\n",
       "        text-align: right;\n",
       "    }\n",
       "</style>\n",
       "<table border=\"1\" class=\"dataframe\">\n",
       "  <thead>\n",
       "    <tr style=\"text-align: right;\">\n",
       "      <th></th>\n",
       "      <th>Date</th>\n",
       "      <th>Close</th>\n",
       "    </tr>\n",
       "    <tr>\n",
       "      <th>Date</th>\n",
       "      <th></th>\n",
       "      <th></th>\n",
       "    </tr>\n",
       "  </thead>\n",
       "  <tbody>\n",
       "    <tr>\n",
       "      <th>2019-04-23</th>\n",
       "      <td>23-Apr-19</td>\n",
       "      <td>2933.68</td>\n",
       "    </tr>\n",
       "    <tr>\n",
       "      <th>2019-04-22</th>\n",
       "      <td>22-Apr-19</td>\n",
       "      <td>2907.97</td>\n",
       "    </tr>\n",
       "    <tr>\n",
       "      <th>2019-04-18</th>\n",
       "      <td>18-Apr-19</td>\n",
       "      <td>2905.03</td>\n",
       "    </tr>\n",
       "    <tr>\n",
       "      <th>2019-04-17</th>\n",
       "      <td>17-Apr-19</td>\n",
       "      <td>2900.45</td>\n",
       "    </tr>\n",
       "    <tr>\n",
       "      <th>2019-04-16</th>\n",
       "      <td>16-Apr-19</td>\n",
       "      <td>2907.06</td>\n",
       "    </tr>\n",
       "  </tbody>\n",
       "</table>\n",
       "</div>"
      ],
      "text/plain": [
       "                 Date    Close\n",
       "Date                          \n",
       "2019-04-23  23-Apr-19  2933.68\n",
       "2019-04-22  22-Apr-19  2907.97\n",
       "2019-04-18  18-Apr-19  2905.03\n",
       "2019-04-17  17-Apr-19  2900.45\n",
       "2019-04-16  16-Apr-19  2907.06"
      ]
     },
     "execution_count": 424,
     "metadata": {},
     "output_type": "execute_result"
    }
   ],
   "source": [
    "#set date as the index\n",
    "sp500_history_csv.set_index(pd.to_datetime(sp500_history_csv['Date'], infer_datetime_format=True), inplace=True)\n",
    "sp500_history_csv.head()\n"
   ]
  },
  {
   "cell_type": "code",
   "execution_count": 425,
   "metadata": {},
   "outputs": [
    {
     "data": {
      "text/html": [
       "<div>\n",
       "<style scoped>\n",
       "    .dataframe tbody tr th:only-of-type {\n",
       "        vertical-align: middle;\n",
       "    }\n",
       "\n",
       "    .dataframe tbody tr th {\n",
       "        vertical-align: top;\n",
       "    }\n",
       "\n",
       "    .dataframe thead th {\n",
       "        text-align: right;\n",
       "    }\n",
       "</style>\n",
       "<table border=\"1\" class=\"dataframe\">\n",
       "  <thead>\n",
       "    <tr style=\"text-align: right;\">\n",
       "      <th></th>\n",
       "      <th>Close</th>\n",
       "    </tr>\n",
       "    <tr>\n",
       "      <th>Date</th>\n",
       "      <th></th>\n",
       "    </tr>\n",
       "  </thead>\n",
       "  <tbody>\n",
       "    <tr>\n",
       "      <th>2019-04-23</th>\n",
       "      <td>2933.68</td>\n",
       "    </tr>\n",
       "    <tr>\n",
       "      <th>2019-04-22</th>\n",
       "      <td>2907.97</td>\n",
       "    </tr>\n",
       "    <tr>\n",
       "      <th>2019-04-18</th>\n",
       "      <td>2905.03</td>\n",
       "    </tr>\n",
       "    <tr>\n",
       "      <th>2019-04-17</th>\n",
       "      <td>2900.45</td>\n",
       "    </tr>\n",
       "    <tr>\n",
       "      <th>2019-04-16</th>\n",
       "      <td>2907.06</td>\n",
       "    </tr>\n",
       "  </tbody>\n",
       "</table>\n",
       "</div>"
      ],
      "text/plain": [
       "              Close\n",
       "Date               \n",
       "2019-04-23  2933.68\n",
       "2019-04-22  2907.97\n",
       "2019-04-18  2905.03\n",
       "2019-04-17  2900.45\n",
       "2019-04-16  2907.06"
      ]
     },
     "execution_count": 425,
     "metadata": {},
     "output_type": "execute_result"
    }
   ],
   "source": [
    "#drop extra date column\n",
    "sp500_history_csv.drop(columns=['Date'], inplace=True)\n",
    "sp500_history_csv.head()\n"
   ]
  },
  {
   "cell_type": "code",
   "execution_count": 426,
   "metadata": {},
   "outputs": [
    {
     "data": {
      "text/plain": [
       "<bound method NDFrame.head of                Close\n",
       "Date                \n",
       "2019-04-23       NaN\n",
       "2019-04-22 -0.008764\n",
       "2019-04-18 -0.001011\n",
       "2019-04-17 -0.001577\n",
       "2019-04-16  0.002279\n",
       "...              ...\n",
       "2012-10-05  0.003469\n",
       "2012-10-04  0.000322\n",
       "2012-10-03 -0.007123\n",
       "2012-10-02 -0.003611\n",
       "2012-10-01 -0.000872\n",
       "\n",
       "[1649 rows x 1 columns]>"
      ]
     },
     "execution_count": 426,
     "metadata": {},
     "output_type": "execute_result"
    }
   ],
   "source": [
    "#calculate daily returns\n",
    "sp500_history_csv = sp500_history_csv.pct_change()\n",
    "sp500_history_csv.head"
   ]
  },
  {
   "cell_type": "code",
   "execution_count": 427,
   "metadata": {},
   "outputs": [
    {
     "data": {
      "text/plain": [
       "Close    1\n",
       "dtype: int64"
      ]
     },
     "execution_count": 427,
     "metadata": {},
     "output_type": "execute_result"
    }
   ],
   "source": [
    "# Count nulls\n",
    "sp500_history_csv.isnull().sum()"
   ]
  },
  {
   "cell_type": "code",
   "execution_count": 428,
   "metadata": {},
   "outputs": [],
   "source": [
    "# Drop nulls\n",
    "sp500_history_csv.dropna(inplace=True)"
   ]
  },
  {
   "cell_type": "code",
   "execution_count": 429,
   "metadata": {},
   "outputs": [
    {
     "data": {
      "text/plain": [
       "Close    0\n",
       "dtype: int64"
      ]
     },
     "execution_count": 429,
     "metadata": {},
     "output_type": "execute_result"
    }
   ],
   "source": [
    "#check by counting nulls again\n",
    "sp500_history_csv.isnull().sum()"
   ]
  },
  {
   "cell_type": "code",
   "execution_count": 430,
   "metadata": {},
   "outputs": [
    {
     "data": {
      "text/html": [
       "<div>\n",
       "<style scoped>\n",
       "    .dataframe tbody tr th:only-of-type {\n",
       "        vertical-align: middle;\n",
       "    }\n",
       "\n",
       "    .dataframe tbody tr th {\n",
       "        vertical-align: top;\n",
       "    }\n",
       "\n",
       "    .dataframe thead th {\n",
       "        text-align: right;\n",
       "    }\n",
       "</style>\n",
       "<table border=\"1\" class=\"dataframe\">\n",
       "  <thead>\n",
       "    <tr style=\"text-align: right;\">\n",
       "      <th></th>\n",
       "      <th>S&amp;P 500</th>\n",
       "    </tr>\n",
       "    <tr>\n",
       "      <th>Date</th>\n",
       "      <th></th>\n",
       "    </tr>\n",
       "  </thead>\n",
       "  <tbody>\n",
       "    <tr>\n",
       "      <th>2019-04-22</th>\n",
       "      <td>-0.008764</td>\n",
       "    </tr>\n",
       "    <tr>\n",
       "      <th>2019-04-18</th>\n",
       "      <td>-0.001011</td>\n",
       "    </tr>\n",
       "    <tr>\n",
       "      <th>2019-04-17</th>\n",
       "      <td>-0.001577</td>\n",
       "    </tr>\n",
       "    <tr>\n",
       "      <th>2019-04-16</th>\n",
       "      <td>0.002279</td>\n",
       "    </tr>\n",
       "    <tr>\n",
       "      <th>2019-04-15</th>\n",
       "      <td>-0.000509</td>\n",
       "    </tr>\n",
       "  </tbody>\n",
       "</table>\n",
       "</div>"
      ],
      "text/plain": [
       "             S&P 500\n",
       "Date                \n",
       "2019-04-22 -0.008764\n",
       "2019-04-18 -0.001011\n",
       "2019-04-17 -0.001577\n",
       "2019-04-16  0.002279\n",
       "2019-04-15 -0.000509"
      ]
     },
     "execution_count": 430,
     "metadata": {},
     "output_type": "execute_result"
    }
   ],
   "source": [
    "# Renamed Column\n",
    "sp500_history_csv.columns = [\"S&P 500\"]\n",
    "sp500_history_csv.head()"
   ]
  },
  {
   "cell_type": "code",
   "execution_count": null,
   "metadata": {},
   "outputs": [],
   "source": []
  },
  {
   "cell_type": "markdown",
   "metadata": {},
   "source": [
    "## Combine Whale, Algorithmic, and S&P 500 Returns"
   ]
  },
  {
   "cell_type": "code",
   "execution_count": 431,
   "metadata": {},
   "outputs": [
    {
     "data": {
      "text/html": [
       "<div>\n",
       "<style scoped>\n",
       "    .dataframe tbody tr th:only-of-type {\n",
       "        vertical-align: middle;\n",
       "    }\n",
       "\n",
       "    .dataframe tbody tr th {\n",
       "        vertical-align: top;\n",
       "    }\n",
       "\n",
       "    .dataframe thead th {\n",
       "        text-align: right;\n",
       "    }\n",
       "</style>\n",
       "<table border=\"1\" class=\"dataframe\">\n",
       "  <thead>\n",
       "    <tr style=\"text-align: right;\">\n",
       "      <th></th>\n",
       "      <th>SOROS FUND MANAGEMENT LLC</th>\n",
       "      <th>PAULSON &amp; CO.INC.</th>\n",
       "      <th>TIGER GLOBAL MANAGEMENT LLC</th>\n",
       "      <th>BERKSHIRE HATHAWAY INC</th>\n",
       "      <th>Algo 1</th>\n",
       "      <th>Algo 2</th>\n",
       "      <th>S&amp;P 500</th>\n",
       "    </tr>\n",
       "    <tr>\n",
       "      <th>Date</th>\n",
       "      <th></th>\n",
       "      <th></th>\n",
       "      <th></th>\n",
       "      <th></th>\n",
       "      <th></th>\n",
       "      <th></th>\n",
       "      <th></th>\n",
       "    </tr>\n",
       "  </thead>\n",
       "  <tbody>\n",
       "    <tr>\n",
       "      <th>2015-03-03</th>\n",
       "      <td>-0.001266</td>\n",
       "      <td>-0.004981</td>\n",
       "      <td>-0.000496</td>\n",
       "      <td>-0.006569</td>\n",
       "      <td>-0.001942</td>\n",
       "      <td>-0.000949</td>\n",
       "      <td>0.004408</td>\n",
       "    </tr>\n",
       "    <tr>\n",
       "      <th>2015-03-04</th>\n",
       "      <td>0.002230</td>\n",
       "      <td>0.003241</td>\n",
       "      <td>-0.002534</td>\n",
       "      <td>0.004213</td>\n",
       "      <td>-0.008589</td>\n",
       "      <td>0.002416</td>\n",
       "      <td>-0.001195</td>\n",
       "    </tr>\n",
       "    <tr>\n",
       "      <th>2015-03-05</th>\n",
       "      <td>0.004016</td>\n",
       "      <td>0.004076</td>\n",
       "      <td>0.002355</td>\n",
       "      <td>0.006726</td>\n",
       "      <td>-0.000955</td>\n",
       "      <td>0.004323</td>\n",
       "      <td>0.014378</td>\n",
       "    </tr>\n",
       "    <tr>\n",
       "      <th>2015-03-06</th>\n",
       "      <td>-0.007905</td>\n",
       "      <td>-0.003574</td>\n",
       "      <td>-0.008481</td>\n",
       "      <td>-0.013098</td>\n",
       "      <td>-0.004957</td>\n",
       "      <td>-0.011460</td>\n",
       "      <td>-0.003929</td>\n",
       "    </tr>\n",
       "    <tr>\n",
       "      <th>2015-03-09</th>\n",
       "      <td>0.000582</td>\n",
       "      <td>0.004225</td>\n",
       "      <td>0.005843</td>\n",
       "      <td>-0.001652</td>\n",
       "      <td>-0.005447</td>\n",
       "      <td>0.001303</td>\n",
       "      <td>0.017254</td>\n",
       "    </tr>\n",
       "  </tbody>\n",
       "</table>\n",
       "</div>"
      ],
      "text/plain": [
       "            SOROS FUND MANAGEMENT LLC  PAULSON & CO.INC.   \\\n",
       "Date                                                        \n",
       "2015-03-03                  -0.001266           -0.004981   \n",
       "2015-03-04                   0.002230            0.003241   \n",
       "2015-03-05                   0.004016            0.004076   \n",
       "2015-03-06                  -0.007905           -0.003574   \n",
       "2015-03-09                   0.000582            0.004225   \n",
       "\n",
       "            TIGER GLOBAL MANAGEMENT LLC  BERKSHIRE HATHAWAY INC    Algo 1  \\\n",
       "Date                                                                        \n",
       "2015-03-03                    -0.000496               -0.006569 -0.001942   \n",
       "2015-03-04                    -0.002534                0.004213 -0.008589   \n",
       "2015-03-05                     0.002355                0.006726 -0.000955   \n",
       "2015-03-06                    -0.008481               -0.013098 -0.004957   \n",
       "2015-03-09                     0.005843               -0.001652 -0.005447   \n",
       "\n",
       "              Algo 2   S&P 500  \n",
       "Date                            \n",
       "2015-03-03 -0.000949  0.004408  \n",
       "2015-03-04  0.002416 -0.001195  \n",
       "2015-03-05  0.004323  0.014378  \n",
       "2015-03-06 -0.011460 -0.003929  \n",
       "2015-03-09  0.001303  0.017254  "
      ]
     },
     "execution_count": 431,
     "metadata": {},
     "output_type": "execute_result"
    }
   ],
   "source": [
    "# Concatenated all DataFrames into a single DataFrame\n",
    "all_returns = pd.concat([whale_returns_csv,algo_returns_csv,sp500_history_csv], axis=\"columns\", join=\"inner\")\n",
    "all_returns.head()"
   ]
  },
  {
   "cell_type": "markdown",
   "metadata": {},
   "source": [
    "---"
   ]
  },
  {
   "cell_type": "markdown",
   "metadata": {},
   "source": [
    "# Portfolio Analysis\n",
    "\n",
    "In this section, you will calculate and visualize performance and risk metrics for the portfolios."
   ]
  },
  {
   "cell_type": "markdown",
   "metadata": {},
   "source": [
    "## Performance\n",
    "\n",
    "Calculate and Plot the daily returns and cumulative returns. "
   ]
  },
  {
   "cell_type": "code",
   "execution_count": 432,
   "metadata": {},
   "outputs": [
    {
     "data": {
      "text/plain": [
       "<matplotlib.axes._subplots.AxesSubplot at 0x1a1bd675d0>"
      ]
     },
     "execution_count": 432,
     "metadata": {},
     "output_type": "execute_result"
    },
    {
     "data": {
      "image/png": "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\n",
      "text/plain": [
       "<Figure size 1080x576 with 1 Axes>"
      ]
     },
     "metadata": {
      "needs_background": "light"
     },
     "output_type": "display_data"
    }
   ],
   "source": [
    "# Plotted  daily returns\n",
    "all_returns.plot(figsize=(15,8))\n"
   ]
  },
  {
   "cell_type": "code",
   "execution_count": 433,
   "metadata": {},
   "outputs": [
    {
     "data": {
      "text/plain": [
       "<matplotlib.axes._subplots.AxesSubplot at 0x1a1ca7d710>"
      ]
     },
     "execution_count": 433,
     "metadata": {},
     "output_type": "execute_result"
    },
    {
     "data": {
      "image/png": "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\n",
      "text/plain": [
       "<Figure size 1080x576 with 1 Axes>"
      ]
     },
     "metadata": {
      "needs_background": "light"
     },
     "output_type": "display_data"
    }
   ],
   "source": [
    "# Plotted cumulative returns\n",
    "cumulative_returns = (1 + all_returns).cumprod() - 1\n",
    "cumulative_returns.plot(figsize=(15,8))"
   ]
  },
  {
   "cell_type": "markdown",
   "metadata": {},
   "source": [
    "---"
   ]
  },
  {
   "cell_type": "markdown",
   "metadata": {},
   "source": [
    "## Risk\n",
    "\n",
    "Determine the _risk_ of each portfolio:\n",
    "\n",
    "1. Create a box plot for each portfolio. \n",
    "2. Calculate the standard deviation for all portfolios\n",
    "4. Determine which portfolios are riskier than the S&P 500\n",
    "5. Calculate the Annualized Standard Deviation"
   ]
  },
  {
   "cell_type": "code",
   "execution_count": 434,
   "metadata": {},
   "outputs": [
    {
     "data": {
      "text/plain": [
       "<matplotlib.axes._subplots.AxesSubplot at 0x1a1bf14c10>"
      ]
     },
     "execution_count": 434,
     "metadata": {},
     "output_type": "execute_result"
    },
    {
     "data": {
      "image/png": "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\n",
      "text/plain": [
       "<Figure size 1440x576 with 1 Axes>"
      ]
     },
     "metadata": {
      "needs_background": "light"
     },
     "output_type": "display_data"
    }
   ],
   "source": [
    "# Boxed plot to visually show risk\n",
    "all_returns.plot.box(figsize=(20,8))"
   ]
  },
  {
   "cell_type": "code",
   "execution_count": 435,
   "metadata": {},
   "outputs": [
    {
     "name": "stdout",
     "output_type": "stream",
     "text": [
      "SOROS FUND MANAGEMENT LLC      0.007896\n",
      "PAULSON & CO.INC.              0.007026\n",
      "TIGER GLOBAL MANAGEMENT LLC    0.010897\n",
      "BERKSHIRE HATHAWAY INC         0.012919\n",
      "Algo 1                         0.007623\n",
      "Algo 2                         0.008341\n",
      "S&P 500                        0.008587\n",
      "dtype: float64\n"
     ]
    }
   ],
   "source": [
    "# Daily Standard Deviations\n",
    "# Calculated the standard deviation for each portfolio. Which portfolios are riskier than the S&P 500?\n",
    "daily_std = all_returns.std()\n",
    "print(daily_std)"
   ]
  },
  {
   "cell_type": "code",
   "execution_count": 436,
   "metadata": {},
   "outputs": [
    {
     "data": {
      "text/plain": [
       "TIGER GLOBAL MANAGEMENT LLC    0.010897\n",
       "BERKSHIRE HATHAWAY INC         0.012919\n",
       "dtype: float64"
      ]
     },
     "execution_count": 436,
     "metadata": {},
     "output_type": "execute_result"
    }
   ],
   "source": [
    "# Determined which portfolios are riskier than the S&P 500\n",
    "riskier = daily_std[daily_std > daily_std[\"S&P 500\"]]\n",
    "riskier.head(5)"
   ]
  },
  {
   "cell_type": "code",
   "execution_count": 437,
   "metadata": {},
   "outputs": [
    {
     "data": {
      "text/plain": [
       "SOROS FUND MANAGEMENT LLC      0.125348\n",
       "PAULSON & CO.INC.              0.111527\n",
       "TIGER GLOBAL MANAGEMENT LLC    0.172989\n",
       "BERKSHIRE HATHAWAY INC         0.205079\n",
       "Algo 1                         0.121006\n",
       "Algo 2                         0.132413\n",
       "S&P 500                        0.136313\n",
       "dtype: float64"
      ]
     },
     "execution_count": 437,
     "metadata": {},
     "output_type": "execute_result"
    }
   ],
   "source": [
    "# Calculate the annualized standard deviation (252 trading days)\n",
    "annualized_std = daily_std * np.sqrt(252)\n",
    "annualized_std"
   ]
  },
  {
   "cell_type": "markdown",
   "metadata": {},
   "source": [
    "---"
   ]
  },
  {
   "cell_type": "markdown",
   "metadata": {},
   "source": [
    "## Rolling Statistics\n",
    "\n",
    "Risk changes over time. Analyze the rolling statistics for Risk and Beta. \n",
    "\n",
    "1. Calculate and plot the rolling standard deviation for the S&PP 500 using a 21 day window\n",
    "2. Calculate the correlation between each stock to determine which portfolios may mimick the S&P 500\n",
    "2. Calculate and plot a 60 day Beta for Berkshire Hathaway Inc compared to the S&&P 500"
   ]
  },
  {
   "cell_type": "code",
   "execution_count": 438,
   "metadata": {},
   "outputs": [
    {
     "data": {
      "text/plain": [
       "<matplotlib.axes._subplots.AxesSubplot at 0x1a1c94fa50>"
      ]
     },
     "execution_count": 438,
     "metadata": {},
     "output_type": "execute_result"
    },
    {
     "data": {
      "image/png": "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\n",
      "text/plain": [
       "<Figure size 1080x576 with 1 Axes>"
      ]
     },
     "metadata": {
      "needs_background": "light"
     },
     "output_type": "display_data"
    }
   ],
   "source": [
    "# Calculate and plot the rolling standard deviation for the S&PP 500 using a 21 day window\n",
    "all_returns[\"S&P 500\"].rolling(window=21).std().plot(figsize=(15,8))"
   ]
  },
  {
   "cell_type": "code",
   "execution_count": 462,
   "metadata": {},
   "outputs": [
    {
     "data": {
      "text/html": [
       "<div>\n",
       "<style scoped>\n",
       "    .dataframe tbody tr th:only-of-type {\n",
       "        vertical-align: middle;\n",
       "    }\n",
       "\n",
       "    .dataframe tbody tr th {\n",
       "        vertical-align: top;\n",
       "    }\n",
       "\n",
       "    .dataframe thead th {\n",
       "        text-align: right;\n",
       "    }\n",
       "</style>\n",
       "<table border=\"1\" class=\"dataframe\">\n",
       "  <thead>\n",
       "    <tr style=\"text-align: right;\">\n",
       "      <th></th>\n",
       "      <th>SOROS FUND MANAGEMENT LLC</th>\n",
       "      <th>PAULSON &amp; CO.INC.</th>\n",
       "      <th>TIGER GLOBAL MANAGEMENT LLC</th>\n",
       "      <th>BERKSHIRE HATHAWAY INC</th>\n",
       "      <th>Algo 1</th>\n",
       "      <th>Algo 2</th>\n",
       "      <th>S&amp;P 500</th>\n",
       "    </tr>\n",
       "  </thead>\n",
       "  <tbody>\n",
       "    <tr>\n",
       "      <th>SOROS FUND MANAGEMENT LLC</th>\n",
       "      <td>1.000000</td>\n",
       "      <td>0.699823</td>\n",
       "      <td>0.561040</td>\n",
       "      <td>0.754157</td>\n",
       "      <td>0.320901</td>\n",
       "      <td>0.826730</td>\n",
       "      <td>0.000574</td>\n",
       "    </tr>\n",
       "    <tr>\n",
       "      <th>PAULSON &amp; CO.INC.</th>\n",
       "      <td>0.699823</td>\n",
       "      <td>1.000000</td>\n",
       "      <td>0.434308</td>\n",
       "      <td>0.545451</td>\n",
       "      <td>0.268631</td>\n",
       "      <td>0.678085</td>\n",
       "      <td>0.013549</td>\n",
       "    </tr>\n",
       "    <tr>\n",
       "      <th>TIGER GLOBAL MANAGEMENT LLC</th>\n",
       "      <td>0.561040</td>\n",
       "      <td>0.434308</td>\n",
       "      <td>1.000000</td>\n",
       "      <td>0.424125</td>\n",
       "      <td>0.164114</td>\n",
       "      <td>0.507160</td>\n",
       "      <td>-0.001505</td>\n",
       "    </tr>\n",
       "    <tr>\n",
       "      <th>BERKSHIRE HATHAWAY INC</th>\n",
       "      <td>0.754157</td>\n",
       "      <td>0.545451</td>\n",
       "      <td>0.424125</td>\n",
       "      <td>1.000000</td>\n",
       "      <td>0.291678</td>\n",
       "      <td>0.687756</td>\n",
       "      <td>-0.013856</td>\n",
       "    </tr>\n",
       "    <tr>\n",
       "      <th>Algo 1</th>\n",
       "      <td>0.320901</td>\n",
       "      <td>0.268631</td>\n",
       "      <td>0.164114</td>\n",
       "      <td>0.291678</td>\n",
       "      <td>1.000000</td>\n",
       "      <td>0.287852</td>\n",
       "      <td>-0.033963</td>\n",
       "    </tr>\n",
       "    <tr>\n",
       "      <th>Algo 2</th>\n",
       "      <td>0.826730</td>\n",
       "      <td>0.678085</td>\n",
       "      <td>0.507160</td>\n",
       "      <td>0.687756</td>\n",
       "      <td>0.287852</td>\n",
       "      <td>1.000000</td>\n",
       "      <td>-0.002192</td>\n",
       "    </tr>\n",
       "    <tr>\n",
       "      <th>S&amp;P 500</th>\n",
       "      <td>0.000574</td>\n",
       "      <td>0.013549</td>\n",
       "      <td>-0.001505</td>\n",
       "      <td>-0.013856</td>\n",
       "      <td>-0.033963</td>\n",
       "      <td>-0.002192</td>\n",
       "      <td>1.000000</td>\n",
       "    </tr>\n",
       "  </tbody>\n",
       "</table>\n",
       "</div>"
      ],
      "text/plain": [
       "                             SOROS FUND MANAGEMENT LLC  PAULSON & CO.INC.   \\\n",
       "SOROS FUND MANAGEMENT LLC                     1.000000            0.699823   \n",
       "PAULSON & CO.INC.                             0.699823            1.000000   \n",
       "TIGER GLOBAL MANAGEMENT LLC                   0.561040            0.434308   \n",
       "BERKSHIRE HATHAWAY INC                        0.754157            0.545451   \n",
       "Algo 1                                        0.320901            0.268631   \n",
       "Algo 2                                        0.826730            0.678085   \n",
       "S&P 500                                       0.000574            0.013549   \n",
       "\n",
       "                             TIGER GLOBAL MANAGEMENT LLC  \\\n",
       "SOROS FUND MANAGEMENT LLC                       0.561040   \n",
       "PAULSON & CO.INC.                               0.434308   \n",
       "TIGER GLOBAL MANAGEMENT LLC                     1.000000   \n",
       "BERKSHIRE HATHAWAY INC                          0.424125   \n",
       "Algo 1                                          0.164114   \n",
       "Algo 2                                          0.507160   \n",
       "S&P 500                                        -0.001505   \n",
       "\n",
       "                             BERKSHIRE HATHAWAY INC    Algo 1    Algo 2  \\\n",
       "SOROS FUND MANAGEMENT LLC                  0.754157  0.320901  0.826730   \n",
       "PAULSON & CO.INC.                          0.545451  0.268631  0.678085   \n",
       "TIGER GLOBAL MANAGEMENT LLC                0.424125  0.164114  0.507160   \n",
       "BERKSHIRE HATHAWAY INC                     1.000000  0.291678  0.687756   \n",
       "Algo 1                                     0.291678  1.000000  0.287852   \n",
       "Algo 2                                     0.687756  0.287852  1.000000   \n",
       "S&P 500                                   -0.013856 -0.033963 -0.002192   \n",
       "\n",
       "                              S&P 500  \n",
       "SOROS FUND MANAGEMENT LLC    0.000574  \n",
       "PAULSON & CO.INC.            0.013549  \n",
       "TIGER GLOBAL MANAGEMENT LLC -0.001505  \n",
       "BERKSHIRE HATHAWAY INC      -0.013856  \n",
       "Algo 1                      -0.033963  \n",
       "Algo 2                      -0.002192  \n",
       "S&P 500                      1.000000  "
      ]
     },
     "execution_count": 462,
     "metadata": {},
     "output_type": "execute_result"
    },
    {
     "data": {
      "image/png": "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\n",
      "text/plain": [
       "<Figure size 432x288 with 2 Axes>"
      ]
     },
     "metadata": {
      "needs_background": "light"
     },
     "output_type": "display_data"
    }
   ],
   "source": [
    "# Correlation\n",
    "import seaborn as sns\n",
    "correlation = all_returns.corr()\n",
    "sns.heatmap(correlation, vmin=-1, vmax=1, annot=True)\n",
    "correlation\n",
    "\n"
   ]
  },
  {
   "cell_type": "code",
   "execution_count": 440,
   "metadata": {},
   "outputs": [
    {
     "data": {
      "text/plain": [
       "-0.020846489408902668"
      ]
     },
     "execution_count": 440,
     "metadata": {},
     "output_type": "execute_result"
    }
   ],
   "source": [
    "# Calculated Beta for a single portfolio compared to the total market (S&P 500)\n",
    "covariance = all_returns['BERKSHIRE HATHAWAY INC'].cov(all_returns['S&P 500'])\n",
    "variance = all_returns['S&P 500'].var()\n",
    "algol_beta = covariance / variance\n",
    "algol_beta"
   ]
  },
  {
   "cell_type": "markdown",
   "metadata": {},
   "source": [
    "### Challenge: Exponentially Weighted Average \n",
    "\n",
    "An alternative way to calculate a rollwing window is to take the exponentially weighted moving average. This is like a moving window average, but it assigns greater importance to more recent observations. Try calculating the `ewm` with a 21 day half-life."
   ]
  },
  {
   "cell_type": "code",
   "execution_count": 441,
   "metadata": {},
   "outputs": [],
   "source": [
    "# (OPTIONAL) YOUR CODE HERE\n",
    "pass"
   ]
  },
  {
   "cell_type": "markdown",
   "metadata": {},
   "source": [
    "---"
   ]
  },
  {
   "cell_type": "markdown",
   "metadata": {},
   "source": [
    "## Sharpe Ratios\n",
    "In reality, investment managers and thier institutional investors look at the ratio of return-to-risk, and not just returns alone. (After all, if you could invest in one of two portfolios, each offered the same 10% return, yet one offered lower risk, you'd take that one, right?)\n",
    "\n",
    "Calculate and plot the annualized Sharpe ratios for all portfolios to determine which portfolio has the best performance"
   ]
  },
  {
   "cell_type": "code",
   "execution_count": 442,
   "metadata": {},
   "outputs": [
    {
     "data": {
      "text/plain": [
       "SOROS FUND MANAGEMENT LLC      0.342894\n",
       "PAULSON & CO.INC.             -0.491422\n",
       "TIGER GLOBAL MANAGEMENT LLC   -0.130186\n",
       "BERKSHIRE HATHAWAY INC         0.606743\n",
       "Algo 1                         1.369589\n",
       "Algo 2                         0.484334\n",
       "S&P 500                       -0.518582\n",
       "dtype: float64"
      ]
     },
     "execution_count": 442,
     "metadata": {},
     "output_type": "execute_result"
    }
   ],
   "source": [
    "# Annualizied Sharpe Ratios\n",
    "sharpe_ratios = (all_returns.mean() * 252) / (all_returns.std() * np.sqrt(252))\n",
    "sharpe_ratios"
   ]
  },
  {
   "cell_type": "markdown",
   "metadata": {},
   "source": [
    " plot() these sharpe ratios using a barplot.\n",
    " On the basis of this performance metric, do our algo strategies outperform both 'the market' and the whales?"
   ]
  },
  {
   "cell_type": "code",
   "execution_count": 443,
   "metadata": {},
   "outputs": [
    {
     "data": {
      "text/plain": [
       "<matplotlib.axes._subplots.AxesSubplot at 0x1a1ad42cd0>"
      ]
     },
     "execution_count": 443,
     "metadata": {},
     "output_type": "execute_result"
    },
    {
     "data": {
      "image/png": "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\n",
      "text/plain": [
       "<Figure size 432x288 with 1 Axes>"
      ]
     },
     "metadata": {
      "needs_background": "light"
     },
     "output_type": "display_data"
    }
   ],
   "source": [
    "# Visualize the sharpe ratios as a bar plot\n",
    "sharpe_ratios.plot.bar()"
   ]
  },
  {
   "cell_type": "markdown",
   "metadata": {},
   "source": [
    "---"
   ]
  },
  {
   "cell_type": "markdown",
   "metadata": {},
   "source": [
    "# Portfolio Returns\n",
    "\n",
    "In this section, you will build your own portfolio of stocks, calculate the returns, and compare the results to the Whale Portfolios and the S&P 500. \n",
    "\n",
    "1. Choose 3-5 custom stocks with at last 1 year's worth of historic prices and create a DataFrame of the closing prices and dates for each stock.\n",
    "2. Calculate the weighted returns for the portfolio assuming an equal number of shares for each stock\n",
    "3. Join your portfolio returns to the DataFrame that contains all of the portfolio returns\n",
    "4. Re-run the performance and risk analysis with your portfolio to see how it compares to the others\n",
    "5. Include correlation analysis to determine which stocks (if any) are correlated"
   ]
  },
  {
   "cell_type": "markdown",
   "metadata": {},
   "source": [
    "## Chose 3-5 custom stocks with at last 1 year's worth of historic prices and create a DataFrame of the closing prices and dates for each stock."
   ]
  },
  {
   "cell_type": "code",
   "execution_count": 446,
   "metadata": {},
   "outputs": [
    {
     "name": "stdout",
     "output_type": "stream",
     "text": [
      "                AAPL      COST      GOOG\n",
      "Date                                    \n",
      "2018-05-11       NaN       NaN       NaN\n",
      "2018-05-14 -0.002333  0.000613  0.001766\n",
      "2018-05-15 -0.009088 -0.002042 -0.019060\n",
      "2018-05-16  0.009333  0.016523  0.002354\n",
      "2018-05-17 -0.006324  0.004479 -0.002940\n",
      "                AAPL      COST      GOOG\n",
      "Date                                    \n",
      "2019-05-03  0.012431  0.007953  0.019602\n",
      "2019-05-06 -0.015443 -0.001594  0.003366\n",
      "2019-05-07 -0.026957 -0.016583 -0.012855\n",
      "2019-05-08  0.000197  0.004830 -0.006669\n",
      "2019-05-09 -0.010744  0.008826 -0.003335\n"
     ]
    }
   ],
   "source": [
    "# going to do the next several sections in a loop..\n",
    "# 5-11-2018 to 5-9-2019\n",
    "tickers = ['aapl','cost','goog']\n",
    "combined_df = None\n",
    "for ticker in tickers:\n",
    "    TICKER = ticker.upper()\n",
    "    ticker_returns_csv = Path(f\"./Resources/{ticker}_historical.csv\")\n",
    "    ticker_df = pd.read_csv(ticker_returns_csv,index_col=\"Trade DATE\", parse_dates=True)\n",
    "    ticker_df.index.names = [\"Date\"]\n",
    "    ticker_df.sort_index(inplace=True)\n",
    "    ticker_df.drop(columns=['Symbol'],inplace=True)\n",
    "    ticker_df.columns = [TICKER]\n",
    "    ticker_df[TICKER] = ticker_df[TICKER].astype('float64').pct_change()\n",
    "    combined_df = pd.concat([combined_df,ticker_df], axis=\"columns\", join=\"inner\")\n",
    "    \n",
    "print(combined_df.head())\n",
    "print(combined_df.tail())\n"
   ]
  },
  {
   "cell_type": "code",
   "execution_count": 445,
   "metadata": {},
   "outputs": [],
   "source": [
    "# Read the second stock\n",
    "#done\n",
    "pass"
   ]
  },
  {
   "cell_type": "code",
   "execution_count": 398,
   "metadata": {},
   "outputs": [],
   "source": [
    "# Read the third stock\n",
    "#done\n",
    "pass"
   ]
  },
  {
   "cell_type": "code",
   "execution_count": 30,
   "metadata": {},
   "outputs": [],
   "source": [
    "# Concatenated all stocks into a single DataFrame\n",
    "#done\n",
    "pass"
   ]
  },
  {
   "cell_type": "code",
   "execution_count": 31,
   "metadata": {},
   "outputs": [],
   "source": [
    "# Reset the index\n",
    "#done\n",
    "pass"
   ]
  },
  {
   "cell_type": "code",
   "execution_count": 351,
   "metadata": {},
   "outputs": [
    {
     "data": {
      "text/html": [
       "<div>\n",
       "<style scoped>\n",
       "    .dataframe tbody tr th:only-of-type {\n",
       "        vertical-align: middle;\n",
       "    }\n",
       "\n",
       "    .dataframe tbody tr th {\n",
       "        vertical-align: top;\n",
       "    }\n",
       "\n",
       "    .dataframe thead th {\n",
       "        text-align: right;\n",
       "    }\n",
       "</style>\n",
       "<table border=\"1\" class=\"dataframe\">\n",
       "  <thead>\n",
       "    <tr style=\"text-align: right;\">\n",
       "      <th></th>\n",
       "      <th>AAPL</th>\n",
       "      <th>COST</th>\n",
       "      <th>GOOG</th>\n",
       "    </tr>\n",
       "    <tr>\n",
       "      <th>Date</th>\n",
       "      <th></th>\n",
       "      <th></th>\n",
       "      <th></th>\n",
       "    </tr>\n",
       "  </thead>\n",
       "  <tbody>\n",
       "    <tr>\n",
       "      <th>2018-05-14</th>\n",
       "      <td>-0.002333</td>\n",
       "      <td>0.000613</td>\n",
       "      <td>0.001766</td>\n",
       "    </tr>\n",
       "    <tr>\n",
       "      <th>2018-05-15</th>\n",
       "      <td>-0.009088</td>\n",
       "      <td>-0.002042</td>\n",
       "      <td>-0.019060</td>\n",
       "    </tr>\n",
       "    <tr>\n",
       "      <th>2018-05-16</th>\n",
       "      <td>0.009333</td>\n",
       "      <td>0.016523</td>\n",
       "      <td>0.002354</td>\n",
       "    </tr>\n",
       "    <tr>\n",
       "      <th>2018-05-17</th>\n",
       "      <td>-0.006324</td>\n",
       "      <td>0.004479</td>\n",
       "      <td>-0.002940</td>\n",
       "    </tr>\n",
       "    <tr>\n",
       "      <th>2018-05-18</th>\n",
       "      <td>-0.003637</td>\n",
       "      <td>-0.003206</td>\n",
       "      <td>-0.011339</td>\n",
       "    </tr>\n",
       "    <tr>\n",
       "      <th>...</th>\n",
       "      <td>...</td>\n",
       "      <td>...</td>\n",
       "      <td>...</td>\n",
       "    </tr>\n",
       "    <tr>\n",
       "      <th>2019-05-03</th>\n",
       "      <td>0.012431</td>\n",
       "      <td>0.007953</td>\n",
       "      <td>0.019602</td>\n",
       "    </tr>\n",
       "    <tr>\n",
       "      <th>2019-05-06</th>\n",
       "      <td>-0.015443</td>\n",
       "      <td>-0.001594</td>\n",
       "      <td>0.003366</td>\n",
       "    </tr>\n",
       "    <tr>\n",
       "      <th>2019-05-07</th>\n",
       "      <td>-0.026957</td>\n",
       "      <td>-0.016583</td>\n",
       "      <td>-0.012855</td>\n",
       "    </tr>\n",
       "    <tr>\n",
       "      <th>2019-05-08</th>\n",
       "      <td>0.000197</td>\n",
       "      <td>0.004830</td>\n",
       "      <td>-0.006669</td>\n",
       "    </tr>\n",
       "    <tr>\n",
       "      <th>2019-05-09</th>\n",
       "      <td>-0.010744</td>\n",
       "      <td>0.008826</td>\n",
       "      <td>-0.003335</td>\n",
       "    </tr>\n",
       "  </tbody>\n",
       "</table>\n",
       "<p>249 rows × 3 columns</p>\n",
       "</div>"
      ],
      "text/plain": [
       "                AAPL      COST      GOOG\n",
       "Date                                    \n",
       "2018-05-14 -0.002333  0.000613  0.001766\n",
       "2018-05-15 -0.009088 -0.002042 -0.019060\n",
       "2018-05-16  0.009333  0.016523  0.002354\n",
       "2018-05-17 -0.006324  0.004479 -0.002940\n",
       "2018-05-18 -0.003637 -0.003206 -0.011339\n",
       "...              ...       ...       ...\n",
       "2019-05-03  0.012431  0.007953  0.019602\n",
       "2019-05-06 -0.015443 -0.001594  0.003366\n",
       "2019-05-07 -0.026957 -0.016583 -0.012855\n",
       "2019-05-08  0.000197  0.004830 -0.006669\n",
       "2019-05-09 -0.010744  0.008826 -0.003335\n",
       "\n",
       "[249 rows x 3 columns]"
      ]
     },
     "execution_count": 351,
     "metadata": {},
     "output_type": "execute_result"
    }
   ],
   "source": [
    "# Drop Nulls\n",
    "combined_df.dropna(inplace=True)\n",
    "combined_df"
   ]
  },
  {
   "cell_type": "markdown",
   "metadata": {},
   "source": [
    "## Calculated the weighted returns for the portfolio assuming an equal number of shares for each stock"
   ]
  },
  {
   "cell_type": "code",
   "execution_count": 450,
   "metadata": {},
   "outputs": [
    {
     "data": {
      "text/plain": [
       "Date\n",
       "2018-05-15   -652.751141\n",
       "2018-05-16     -1.934383\n",
       "2018-05-17     -1.169604\n",
       "2018-05-18      2.800180\n",
       "2018-05-21     -2.253972\n",
       "dtype: float64"
      ]
     },
     "execution_count": 450,
     "metadata": {},
     "output_type": "execute_result"
    }
   ],
   "source": [
    "# Calculated weighted portfolio returns\n",
    "weights = [1/3, 1/3, 1/3]\n",
    "weighted_returns = combined_df.dot(weights)\n",
    "weighted_returns = weighted_returns.pct_change()\n",
    "weighted_returns.dropna(inplace = True)\n",
    "weighted_returns.head()"
   ]
  },
  {
   "cell_type": "markdown",
   "metadata": {},
   "source": [
    "## Join your portfolio returns to the DataFrame that contains all of the portfolio returns"
   ]
  },
  {
   "cell_type": "code",
   "execution_count": 452,
   "metadata": {},
   "outputs": [
    {
     "data": {
      "text/html": [
       "<div>\n",
       "<style scoped>\n",
       "    .dataframe tbody tr th:only-of-type {\n",
       "        vertical-align: middle;\n",
       "    }\n",
       "\n",
       "    .dataframe tbody tr th {\n",
       "        vertical-align: top;\n",
       "    }\n",
       "\n",
       "    .dataframe thead th {\n",
       "        text-align: right;\n",
       "    }\n",
       "</style>\n",
       "<table border=\"1\" class=\"dataframe\">\n",
       "  <thead>\n",
       "    <tr style=\"text-align: right;\">\n",
       "      <th></th>\n",
       "      <th>SOROS FUND MANAGEMENT LLC</th>\n",
       "      <th>PAULSON &amp; CO.INC.</th>\n",
       "      <th>TIGER GLOBAL MANAGEMENT LLC</th>\n",
       "      <th>BERKSHIRE HATHAWAY INC</th>\n",
       "      <th>Algo 1</th>\n",
       "      <th>Algo 2</th>\n",
       "      <th>S&amp;P 500</th>\n",
       "      <th>0</th>\n",
       "    </tr>\n",
       "    <tr>\n",
       "      <th>Date</th>\n",
       "      <th></th>\n",
       "      <th></th>\n",
       "      <th></th>\n",
       "      <th></th>\n",
       "      <th></th>\n",
       "      <th></th>\n",
       "      <th></th>\n",
       "      <th></th>\n",
       "    </tr>\n",
       "  </thead>\n",
       "  <tbody>\n",
       "    <tr>\n",
       "      <th>2018-05-15</th>\n",
       "      <td>-0.000726</td>\n",
       "      <td>-0.001409</td>\n",
       "      <td>-0.003189</td>\n",
       "      <td>-0.014606</td>\n",
       "      <td>-0.001135</td>\n",
       "      <td>-0.001139</td>\n",
       "      <td>-0.004044</td>\n",
       "      <td>-652.751141</td>\n",
       "    </tr>\n",
       "    <tr>\n",
       "      <th>2018-05-16</th>\n",
       "      <td>0.008637</td>\n",
       "      <td>0.006244</td>\n",
       "      <td>0.005480</td>\n",
       "      <td>0.004310</td>\n",
       "      <td>-0.002326</td>\n",
       "      <td>0.003341</td>\n",
       "      <td>0.000857</td>\n",
       "      <td>-1.934383</td>\n",
       "    </tr>\n",
       "    <tr>\n",
       "      <th>2018-05-17</th>\n",
       "      <td>-0.001955</td>\n",
       "      <td>0.002524</td>\n",
       "      <td>-0.006267</td>\n",
       "      <td>-0.005140</td>\n",
       "      <td>-0.006949</td>\n",
       "      <td>0.005205</td>\n",
       "      <td>0.002639</td>\n",
       "      <td>-1.169604</td>\n",
       "    </tr>\n",
       "    <tr>\n",
       "      <th>2018-05-18</th>\n",
       "      <td>-0.004357</td>\n",
       "      <td>-0.002672</td>\n",
       "      <td>-0.012832</td>\n",
       "      <td>-0.002212</td>\n",
       "      <td>0.002557</td>\n",
       "      <td>-0.002496</td>\n",
       "      <td>-0.007333</td>\n",
       "      <td>2.800180</td>\n",
       "    </tr>\n",
       "    <tr>\n",
       "      <th>2018-05-21</th>\n",
       "      <td>0.002503</td>\n",
       "      <td>-0.001195</td>\n",
       "      <td>-0.001153</td>\n",
       "      <td>0.010370</td>\n",
       "      <td>-0.003092</td>\n",
       "      <td>0.004924</td>\n",
       "      <td>0.003146</td>\n",
       "      <td>-2.253972</td>\n",
       "    </tr>\n",
       "  </tbody>\n",
       "</table>\n",
       "</div>"
      ],
      "text/plain": [
       "            SOROS FUND MANAGEMENT LLC  PAULSON & CO.INC.   \\\n",
       "Date                                                        \n",
       "2018-05-15                  -0.000726           -0.001409   \n",
       "2018-05-16                   0.008637            0.006244   \n",
       "2018-05-17                  -0.001955            0.002524   \n",
       "2018-05-18                  -0.004357           -0.002672   \n",
       "2018-05-21                   0.002503           -0.001195   \n",
       "\n",
       "            TIGER GLOBAL MANAGEMENT LLC  BERKSHIRE HATHAWAY INC    Algo 1  \\\n",
       "Date                                                                        \n",
       "2018-05-15                    -0.003189               -0.014606 -0.001135   \n",
       "2018-05-16                     0.005480                0.004310 -0.002326   \n",
       "2018-05-17                    -0.006267               -0.005140 -0.006949   \n",
       "2018-05-18                    -0.012832               -0.002212  0.002557   \n",
       "2018-05-21                    -0.001153                0.010370 -0.003092   \n",
       "\n",
       "              Algo 2   S&P 500           0  \n",
       "Date                                        \n",
       "2018-05-15 -0.001139 -0.004044 -652.751141  \n",
       "2018-05-16  0.003341  0.000857   -1.934383  \n",
       "2018-05-17  0.005205  0.002639   -1.169604  \n",
       "2018-05-18 -0.002496 -0.007333    2.800180  \n",
       "2018-05-21  0.004924  0.003146   -2.253972  "
      ]
     },
     "execution_count": 452,
     "metadata": {},
     "output_type": "execute_result"
    }
   ],
   "source": [
    "new_combined_df = pd.concat([all_returns,weighted_returns], axis = \"columns\", join = \"inner\")\n",
    "#new_combined_df.rename(columns={0,\"custom\"}, inplace = True)\n",
    "new_combined_df.head()"
   ]
  },
  {
   "cell_type": "code",
   "execution_count": 453,
   "metadata": {},
   "outputs": [
    {
     "name": "stdout",
     "output_type": "stream",
     "text": [
      "            SOROS FUND MANAGEMENT LLC  PAULSON & CO.INC.   \\\n",
      "Date                                                        \n",
      "2019-04-15                  -0.001422           -0.001156   \n",
      "2019-04-16                   0.002699            0.000388   \n",
      "2019-04-17                  -0.002897           -0.006467   \n",
      "2019-04-18                   0.001448            0.001222   \n",
      "2019-04-22                  -0.002586           -0.007333   \n",
      "\n",
      "            TIGER GLOBAL MANAGEMENT LLC  BERKSHIRE HATHAWAY INC    Algo 1  \\\n",
      "Date                                                                        \n",
      "2019-04-15                     0.000398               -0.010492 -0.004331   \n",
      "2019-04-16                    -0.000831                0.000837 -0.006945   \n",
      "2019-04-17                    -0.004409                0.003222 -0.010301   \n",
      "2019-04-18                     0.000582                0.001916 -0.000588   \n",
      "2019-04-22                    -0.003640               -0.001088  0.000677   \n",
      "\n",
      "              Algo 2   S&P 500          0  \n",
      "Date                                       \n",
      "2019-04-15 -0.004572 -0.000509   0.666525  \n",
      "2019-04-16  0.002899  0.002279  -0.954817  \n",
      "2019-04-17 -0.005228 -0.001577  26.340331  \n",
      "2019-04-18 -0.001229 -0.001011  -0.833683  \n",
      "2019-04-22 -0.001936 -0.008764  -0.212789  \n"
     ]
    }
   ],
   "source": [
    "# Only compare dates where return data exists for all the stocks (drop NaNs)\n",
    "new_combined_df.dropna(inplace=True)\n",
    "print(new_combined_df.tail())"
   ]
  },
  {
   "cell_type": "markdown",
   "metadata": {},
   "source": [
    "## Re-run the performance and risk analysis with your portfolio to see how it compares to the others"
   ]
  },
  {
   "cell_type": "code",
   "execution_count": 454,
   "metadata": {},
   "outputs": [
    {
     "name": "stdout",
     "output_type": "stream",
     "text": [
      "PAULSON & CO.INC.               0.007381\n",
      "Algo 1                          0.008455\n",
      "Algo 2                          0.008806\n",
      "SOROS FUND MANAGEMENT LLC       0.009268\n",
      "S&P 500                         0.009614\n",
      "TIGER GLOBAL MANAGEMENT LLC     0.014702\n",
      "BERKSHIRE HATHAWAY INC          0.015612\n",
      "0                              44.278150\n",
      "dtype: float64\n"
     ]
    }
   ],
   "source": [
    "# Risk\n",
    "new_risk = new_combined_df.std()\n",
    "print(new_risk.sort_values())"
   ]
  },
  {
   "cell_type": "code",
   "execution_count": 456,
   "metadata": {},
   "outputs": [
    {
     "data": {
      "text/plain": [
       "<matplotlib.axes._subplots.AxesSubplot at 0x1a1d1d1510>"
      ]
     },
     "execution_count": 456,
     "metadata": {},
     "output_type": "execute_result"
    },
    {
     "data": {
      "image/png": "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\n",
      "text/plain": [
       "<Figure size 1080x576 with 1 Axes>"
      ]
     },
     "metadata": {
      "needs_background": "light"
     },
     "output_type": "display_data"
    }
   ],
   "source": [
    "# Rolling\n",
    "new_combined_df.rolling(window=21).std().plot(figsize=(15,8))"
   ]
  },
  {
   "cell_type": "code",
   "execution_count": 458,
   "metadata": {},
   "outputs": [
    {
     "name": "stdout",
     "output_type": "stream",
     "text": [
      "                             SOROS FUND MANAGEMENT LLC  PAULSON & CO.INC.   \\\n",
      "SOROS FUND MANAGEMENT LLC                     1.000000            0.791802   \n",
      "PAULSON & CO.INC.                             0.791802            1.000000   \n",
      "TIGER GLOBAL MANAGEMENT LLC                   0.477856            0.484878   \n",
      "BERKSHIRE HATHAWAY INC                        0.816197            0.650390   \n",
      "Algo 1                                        0.336908            0.360726   \n",
      "Algo 2                                        0.862666            0.783935   \n",
      "S&P 500                                      -0.028213           -0.059888   \n",
      "0                                             0.029882            0.047390   \n",
      "\n",
      "                             TIGER GLOBAL MANAGEMENT LLC  \\\n",
      "SOROS FUND MANAGEMENT LLC                       0.477856   \n",
      "PAULSON & CO.INC.                               0.484878   \n",
      "TIGER GLOBAL MANAGEMENT LLC                     1.000000   \n",
      "BERKSHIRE HATHAWAY INC                          0.324311   \n",
      "Algo 1                                          0.113677   \n",
      "Algo 2                                          0.408382   \n",
      "S&P 500                                         0.005674   \n",
      "0                                               0.024331   \n",
      "\n",
      "                             BERKSHIRE HATHAWAY INC    Algo 1    Algo 2  \\\n",
      "SOROS FUND MANAGEMENT LLC                  0.816197  0.336908  0.862666   \n",
      "PAULSON & CO.INC.                          0.650390  0.360726  0.783935   \n",
      "TIGER GLOBAL MANAGEMENT LLC                0.324311  0.113677  0.408382   \n",
      "BERKSHIRE HATHAWAY INC                     1.000000  0.325985  0.782117   \n",
      "Algo 1                                     0.325985  1.000000  0.364498   \n",
      "Algo 2                                     0.782117  0.364498  1.000000   \n",
      "S&P 500                                   -0.038857 -0.054487 -0.043185   \n",
      "0                                          0.087650  0.021071  0.034368   \n",
      "\n",
      "                              S&P 500         0  \n",
      "SOROS FUND MANAGEMENT LLC   -0.028213  0.029882  \n",
      "PAULSON & CO.INC.           -0.059888  0.047390  \n",
      "TIGER GLOBAL MANAGEMENT LLC  0.005674  0.024331  \n",
      "BERKSHIRE HATHAWAY INC      -0.038857  0.087650  \n",
      "Algo 1                      -0.054487  0.021071  \n",
      "Algo 2                      -0.043185  0.034368  \n",
      "S&P 500                      1.000000  0.035918  \n",
      "0                            0.035918  1.000000  \n"
     ]
    }
   ],
   "source": [
    "# Beta\n",
    "corr =new_combined_df.corr()\n",
    "print(corr)"
   ]
  },
  {
   "cell_type": "code",
   "execution_count": 459,
   "metadata": {},
   "outputs": [
    {
     "data": {
      "text/plain": [
       "SOROS FUND MANAGEMENT LLC      0.342894\n",
       "PAULSON & CO.INC.             -0.491422\n",
       "TIGER GLOBAL MANAGEMENT LLC   -0.130186\n",
       "BERKSHIRE HATHAWAY INC         0.606743\n",
       "Algo 1                         1.369589\n",
       "Algo 2                         0.484334\n",
       "S&P 500                       -0.518582\n",
       "dtype: float64"
      ]
     },
     "execution_count": 459,
     "metadata": {},
     "output_type": "execute_result"
    }
   ],
   "source": [
    "# Annualzied Sharpe Ratios\n",
    "sharpe_ratios = (all_returns.mean() * 252) / (all_returns.std() * np.sqrt(252))\n",
    "sharpe_ratios"
   ]
  },
  {
   "cell_type": "code",
   "execution_count": 460,
   "metadata": {},
   "outputs": [
    {
     "data": {
      "text/plain": [
       "<matplotlib.axes._subplots.AxesSubplot at 0x1a1d2878d0>"
      ]
     },
     "execution_count": 460,
     "metadata": {},
     "output_type": "execute_result"
    },
    {
     "data": {
      "image/png": "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\n",
      "text/plain": [
       "<Figure size 432x288 with 1 Axes>"
      ]
     },
     "metadata": {
      "needs_background": "light"
     },
     "output_type": "display_data"
    }
   ],
   "source": [
    "# Visualize the sharpe ratios as a bar plot\n",
    "sharpe_ratios.plot.bar()"
   ]
  },
  {
   "cell_type": "markdown",
   "metadata": {},
   "source": [
    "## Include correlation analysis to determine which stocks (if any) are correlated"
   ]
  },
  {
   "cell_type": "code",
   "execution_count": 464,
   "metadata": {},
   "outputs": [
    {
     "data": {
      "text/html": [
       "<div>\n",
       "<style scoped>\n",
       "    .dataframe tbody tr th:only-of-type {\n",
       "        vertical-align: middle;\n",
       "    }\n",
       "\n",
       "    .dataframe tbody tr th {\n",
       "        vertical-align: top;\n",
       "    }\n",
       "\n",
       "    .dataframe thead th {\n",
       "        text-align: right;\n",
       "    }\n",
       "</style>\n",
       "<table border=\"1\" class=\"dataframe\">\n",
       "  <thead>\n",
       "    <tr style=\"text-align: right;\">\n",
       "      <th></th>\n",
       "      <th>SOROS FUND MANAGEMENT LLC</th>\n",
       "      <th>PAULSON &amp; CO.INC.</th>\n",
       "      <th>TIGER GLOBAL MANAGEMENT LLC</th>\n",
       "      <th>BERKSHIRE HATHAWAY INC</th>\n",
       "      <th>Algo 1</th>\n",
       "      <th>Algo 2</th>\n",
       "      <th>S&amp;P 500</th>\n",
       "    </tr>\n",
       "  </thead>\n",
       "  <tbody>\n",
       "    <tr>\n",
       "      <th>SOROS FUND MANAGEMENT LLC</th>\n",
       "      <td>1.000000</td>\n",
       "      <td>0.699823</td>\n",
       "      <td>0.561040</td>\n",
       "      <td>0.754157</td>\n",
       "      <td>0.320901</td>\n",
       "      <td>0.826730</td>\n",
       "      <td>0.000574</td>\n",
       "    </tr>\n",
       "    <tr>\n",
       "      <th>PAULSON &amp; CO.INC.</th>\n",
       "      <td>0.699823</td>\n",
       "      <td>1.000000</td>\n",
       "      <td>0.434308</td>\n",
       "      <td>0.545451</td>\n",
       "      <td>0.268631</td>\n",
       "      <td>0.678085</td>\n",
       "      <td>0.013549</td>\n",
       "    </tr>\n",
       "    <tr>\n",
       "      <th>TIGER GLOBAL MANAGEMENT LLC</th>\n",
       "      <td>0.561040</td>\n",
       "      <td>0.434308</td>\n",
       "      <td>1.000000</td>\n",
       "      <td>0.424125</td>\n",
       "      <td>0.164114</td>\n",
       "      <td>0.507160</td>\n",
       "      <td>-0.001505</td>\n",
       "    </tr>\n",
       "    <tr>\n",
       "      <th>BERKSHIRE HATHAWAY INC</th>\n",
       "      <td>0.754157</td>\n",
       "      <td>0.545451</td>\n",
       "      <td>0.424125</td>\n",
       "      <td>1.000000</td>\n",
       "      <td>0.291678</td>\n",
       "      <td>0.687756</td>\n",
       "      <td>-0.013856</td>\n",
       "    </tr>\n",
       "    <tr>\n",
       "      <th>Algo 1</th>\n",
       "      <td>0.320901</td>\n",
       "      <td>0.268631</td>\n",
       "      <td>0.164114</td>\n",
       "      <td>0.291678</td>\n",
       "      <td>1.000000</td>\n",
       "      <td>0.287852</td>\n",
       "      <td>-0.033963</td>\n",
       "    </tr>\n",
       "    <tr>\n",
       "      <th>Algo 2</th>\n",
       "      <td>0.826730</td>\n",
       "      <td>0.678085</td>\n",
       "      <td>0.507160</td>\n",
       "      <td>0.687756</td>\n",
       "      <td>0.287852</td>\n",
       "      <td>1.000000</td>\n",
       "      <td>-0.002192</td>\n",
       "    </tr>\n",
       "    <tr>\n",
       "      <th>S&amp;P 500</th>\n",
       "      <td>0.000574</td>\n",
       "      <td>0.013549</td>\n",
       "      <td>-0.001505</td>\n",
       "      <td>-0.013856</td>\n",
       "      <td>-0.033963</td>\n",
       "      <td>-0.002192</td>\n",
       "      <td>1.000000</td>\n",
       "    </tr>\n",
       "  </tbody>\n",
       "</table>\n",
       "</div>"
      ],
      "text/plain": [
       "                             SOROS FUND MANAGEMENT LLC  PAULSON & CO.INC.   \\\n",
       "SOROS FUND MANAGEMENT LLC                     1.000000            0.699823   \n",
       "PAULSON & CO.INC.                             0.699823            1.000000   \n",
       "TIGER GLOBAL MANAGEMENT LLC                   0.561040            0.434308   \n",
       "BERKSHIRE HATHAWAY INC                        0.754157            0.545451   \n",
       "Algo 1                                        0.320901            0.268631   \n",
       "Algo 2                                        0.826730            0.678085   \n",
       "S&P 500                                       0.000574            0.013549   \n",
       "\n",
       "                             TIGER GLOBAL MANAGEMENT LLC  \\\n",
       "SOROS FUND MANAGEMENT LLC                       0.561040   \n",
       "PAULSON & CO.INC.                               0.434308   \n",
       "TIGER GLOBAL MANAGEMENT LLC                     1.000000   \n",
       "BERKSHIRE HATHAWAY INC                          0.424125   \n",
       "Algo 1                                          0.164114   \n",
       "Algo 2                                          0.507160   \n",
       "S&P 500                                        -0.001505   \n",
       "\n",
       "                             BERKSHIRE HATHAWAY INC    Algo 1    Algo 2  \\\n",
       "SOROS FUND MANAGEMENT LLC                  0.754157  0.320901  0.826730   \n",
       "PAULSON & CO.INC.                          0.545451  0.268631  0.678085   \n",
       "TIGER GLOBAL MANAGEMENT LLC                0.424125  0.164114  0.507160   \n",
       "BERKSHIRE HATHAWAY INC                     1.000000  0.291678  0.687756   \n",
       "Algo 1                                     0.291678  1.000000  0.287852   \n",
       "Algo 2                                     0.687756  0.287852  1.000000   \n",
       "S&P 500                                   -0.013856 -0.033963 -0.002192   \n",
       "\n",
       "                              S&P 500  \n",
       "SOROS FUND MANAGEMENT LLC    0.000574  \n",
       "PAULSON & CO.INC.            0.013549  \n",
       "TIGER GLOBAL MANAGEMENT LLC -0.001505  \n",
       "BERKSHIRE HATHAWAY INC      -0.013856  \n",
       "Algo 1                      -0.033963  \n",
       "Algo 2                      -0.002192  \n",
       "S&P 500                      1.000000  "
      ]
     },
     "execution_count": 464,
     "metadata": {},
     "output_type": "execute_result"
    },
    {
     "data": {
      "image/png": "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\n",
      "text/plain": [
       "<Figure size 432x288 with 2 Axes>"
      ]
     },
     "metadata": {
      "needs_background": "light"
     },
     "output_type": "display_data"
    }
   ],
   "source": [
    "# YOUR CODE HERE\n",
    "correlation = all_returns.corr()\n",
    "sns.heatmap(correlation, vmin=-1, vmax=1, annot=True)\n",
    "correlation"
   ]
  },
  {
   "cell_type": "markdown",
   "metadata": {},
   "source": []
  },
  {
   "cell_type": "code",
   "execution_count": null,
   "metadata": {},
   "outputs": [],
   "source": []
  },
  {
   "cell_type": "code",
   "execution_count": null,
   "metadata": {},
   "outputs": [],
   "source": []
  }
 ],
 "metadata": {
  "file_extension": ".py",
  "kernel_info": {
   "name": "dev"
  },
  "kernelspec": {
   "display_name": "Python 3",
   "language": "python",
   "name": "python3"
  },
  "language_info": {
   "codemirror_mode": {
    "name": "ipython",
    "version": 3
   },
   "file_extension": ".py",
   "mimetype": "text/x-python",
   "name": "python",
   "nbconvert_exporter": "python",
   "pygments_lexer": "ipython3",
   "version": "3.7.6"
  },
  "mimetype": "text/x-python",
  "name": "python",
  "npconvert_exporter": "python",
  "nteract": {
   "version": "0.12.3"
  },
  "pygments_lexer": "ipython3",
  "version": 3
 },
 "nbformat": 4,
 "nbformat_minor": 4
}
